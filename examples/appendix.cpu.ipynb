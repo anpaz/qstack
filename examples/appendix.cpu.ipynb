{
 "cells": [
  {
   "cell_type": "code",
   "execution_count": 3,
   "metadata": {},
   "outputs": [],
   "source": [
    "# This example demonstrates the use of a classical processor (CPU) in qstack.\n",
    "# Classical processors are used to handle classical computations that interact with quantum programs.\n",
    "# They process measurement results, apply classical logic, and execute classical instructions.\n",
    "# This example focuses on the CPU interface, which operates independently of the QPU.\n",
    "# It showcases how to call the different operations of the CPU interface, such as restart, collect, eval, and consume.\n",
    "from qstack.ast import Kernel, QuantumInstruction, QubitId\n",
    "from qstack.processors import flush\n",
    "from qstack.classic_processor import ClassicalContext, ClassicProcessor, ClassicDefinition\n",
    "\n",
    "\n",
    "# Define a classical voting function.\n",
    "# This function takes three measurement results from the stack and determines the majority vote.\n",
    "# If at least two of the results are 1, the vote is 1; otherwise, it is 0.\n",
    "# The `context.consume()` method consumes the top measurement result from the stack.\n",
    "# This is used to retrieve classical outcomes for further processing.\n",
    "# The `context.collect(x)` method adds an outcome `x` to the top of the stack.\n",
    "# This is used to store classical results for later use in the program.\n",
    "def vote(context: ClassicalContext):\n",
    "    m1 = context.consume()  # Pop the latest measurement from the stack.\n",
    "    m2 = context.consume()  # Pop the next measurement from the stack.\n",
    "    m3 = context.consume()  # Pop the next measurement from the stack.\n",
    "\n",
    "    print(\"on vote\", m1, m2, m3)\n",
    "    if m1 + m2 + m3 >= 2:\n",
    "        context.collect(1)  # Add a vote of 1 to the stack if the majority is 1.\n",
    "    else:\n",
    "        context.collect(0)  # Add a vote of 0 to the stack otherwise.\n",
    "\n",
    "\n",
    "# Define a classical function to conditionally flip a qubit's state.\n",
    "# If the consumed measurement result is 1, an X gate (quantum NOT) is applied to the qubit.\n",
    "def q_flip(context: ClassicalContext, *, q: QubitId):\n",
    "    m = context.consume()  # Consume a measurement result.\n",
    "    print(\"on q_flip\", m)\n",
    "    if m == 1:\n",
    "        return Kernel(target=None, instructions=[QuantumInstruction(name=\"x\", targets=[q])])\n",
    "\n",
    "\n",
    "# Create classical definitions for the vote and q_flip functions.\n",
    "Vote = ClassicDefinition.from_callback(vote)\n",
    "QFlip = ClassicDefinition.from_callback(q_flip)\n",
    "\n",
    "# Initialize a classical processor with the defined instructions.\n",
    "# The classical processor is responsible for executing classical logic in a quantum-classical hybrid program.\n",
    "cpu = ClassicProcessor(instructions={Vote, QFlip})\n"
   ]
  },
  {
   "cell_type": "code",
   "execution_count": 4,
   "metadata": {},
   "outputs": [
    {
     "name": "stdout",
     "output_type": "stream",
     "text": [
      "on vote 1 0 1\n",
      "on vote 0 0 1\n",
      "on q_flip 0\n",
      "---\n",
      "on q_flip 1\n",
      "---\n",
      "x q2\n",
      "(0,)\n"
     ]
    }
   ],
   "source": [
    "# Restart the classical processor to clear its state.\n",
    "cpu.restart()\n",
    "\n",
    "# Collect initial votes and evaluate the voting logic.\n",
    "# The collect method stores classical data (e.g., measurement results) for processing.\n",
    "cpu.collect(0)\n",
    "\n",
    "cpu.collect(1)\n",
    "cpu.collect(0)\n",
    "cpu.collect(1)\n",
    "cpu.eval(Vote())  # Evaluate the voting logic with the collected data.\n",
    "\n",
    "cpu.collect(1)\n",
    "cpu.collect(0)\n",
    "cpu.collect(0)\n",
    "cpu.eval(Vote())  # Evaluate the voting logic again with new data.\n",
    "\n",
    "# Consume the last two votes and conditionally flip the state of qubits.\n",
    "# The q_flip function applies an X gate to the specified qubit if the consumed vote is 1.\n",
    "print(cpu.eval(QFlip(q=QubitId(\"q1\"))))\n",
    "print(cpu.eval(QFlip(q=QubitId(\"q2\"))))\n",
    "\n",
    "# Flush the processor's state and print the remaining data.\n",
    "# The flush function clears all remaining data in the processor and returns it as a tuple.\n",
    "print(tuple(flush(cpu)))\n"
   ]
  },
  {
   "cell_type": "code",
   "execution_count": null,
   "metadata": {},
   "outputs": [],
   "source": []
  }
 ],
 "metadata": {
  "kernelspec": {
   "display_name": "qstack",
   "language": "python",
   "name": "python3"
  },
  "language_info": {
   "codemirror_mode": {
    "name": "ipython",
    "version": 3
   },
   "file_extension": ".py",
   "mimetype": "text/x-python",
   "name": "python",
   "nbconvert_exporter": "python",
   "pygments_lexer": "ipython3",
   "version": "3.12.3"
  }
 },
 "nbformat": 4,
 "nbformat_minor": 2
}
