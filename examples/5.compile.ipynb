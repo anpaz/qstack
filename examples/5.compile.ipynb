{
 "cells": [
  {
   "cell_type": "code",
   "execution_count": 1,
   "metadata": {},
   "outputs": [],
   "source": [
    "# Set up logging to monitor the execution of the program.\n",
    "import logging\n",
    "\n",
    "logger = logging.getLogger(\"qstack\")\n",
    "\n",
    "handler = logging.StreamHandler()\n",
    "formatter = logging.Formatter(\"%(asctime)s - %(levelname)s - %(message)s\")\n",
    "handler.setFormatter(formatter)\n",
    "logger.addHandler(handler)\n"
   ]
  },
  {
   "cell_type": "code",
   "execution_count": 2,
   "metadata": {},
   "outputs": [],
   "source": [
    "# This example demonstrates the compilation of quantum programs using qstack.\n",
    "# Compilation is the process of transforming a high-level quantum program into a lower-level representation suitable for execution.\n",
    "# The Toy layer is a simplified abstraction layer for quantum operations, useful for prototyping and testing.\n",
    "# It uses gates with names that reflect the intention (e.g., Flip) instead of the mathematical operation (e.g., X).\n",
    "# It provides basic quantum gates and operations to define quantum programs.\n",
    "import qstack\n",
    "\n",
    "program = None"
   ]
  },
  {
   "cell_type": "code",
   "execution_count": 3,
   "metadata": {},
   "outputs": [
    {
     "data": {
      "text/plain": [
       "[Kernel(target=QubitId(value='q1'), instructions=(Kernel(target=QubitId(value='q2'), instructions=(Kernel(target=QubitId(value='q3'), instructions=(QuantumInstruction(name='mix', targets=[QubitId(value='q2')], parameters={}), QuantumInstruction(name='flip', targets=[QubitId(value='q3')], parameters={})), callback=None),), callback=ClassicInstruction(name='fix', parameters={'q': 'q1'})),), callback=None)]"
      ]
     },
     "execution_count": 3,
     "metadata": {},
     "output_type": "execute_result"
    }
   ],
   "source": [
    "%%qstack\n",
    "@instruction-set: toy\n",
    "\n",
    "allocate q1:\n",
    "  allocate q2 q3:\n",
    "    mix q2\n",
    "    flip q3\n",
    "  measure\n",
    "  ?? fix(q=q1)\n",
    "measure"
   ]
  },
  {
   "cell_type": "code",
   "execution_count": 4,
   "metadata": {},
   "outputs": [],
   "source": [
    "## Prepare the classical callbacks that is needed for the program.\n",
    "from qstack import Kernel\n",
    "from qstack.instruction_sets.toy import Flip\n",
    "\n",
    "# Define a classical callback function for flipping a qubit's state.\n",
    "def fix(context, *, q):\n",
    "    return Kernel(target=[], instructions=[Flip(q)])\n"
   ]
  },
  {
   "cell_type": "code",
   "execution_count": 5,
   "metadata": {},
   "outputs": [
    {
     "data": {
      "application/javascript": "// Copyright (c) Microsoft Corporation.\n// Licensed under the MIT License.\n\n// This file provides CodeMirror syntax highlighting for Q# magic cells\n// in classic Jupyter Notebooks. It does nothing in other (Jupyter Notebook 7,\n// VS Code, Azure Notebooks, etc.) environments.\n\n// Detect the prerequisites and do nothing if they don't exist.\nif (window.require && window.CodeMirror && window.Jupyter) {\n  // The simple mode plugin for CodeMirror is not loaded by default, so require it.\n  window.require([\"codemirror/addon/mode/simple\"], function defineMode() {\n    let rules = [\n      {\n        token: \"comment\",\n        regex: /(\\/\\/).*/,\n        beginWord: false,\n      },\n      {\n        token: \"string\",\n        regex: String.raw`^\\\"(?:[^\\\"\\\\]|\\\\[\\s\\S])*(?:\\\"|$)`,\n        beginWord: false,\n      },\n      {\n        token: \"keyword\",\n        regex: String.raw`(namespace|open|as|operation|function|body|adjoint|newtype|controlled|internal)\\b`,\n        beginWord: true,\n      },\n      {\n        token: \"keyword\",\n        regex: String.raw`(if|elif|else|repeat|until|fixup|for|in|return|fail|within|apply)\\b`,\n        beginWord: true,\n      },\n      {\n        token: \"keyword\",\n        regex: String.raw`(Adjoint|Controlled|Adj|Ctl|is|self|auto|distribute|invert|intrinsic)\\b`,\n        beginWord: true,\n      },\n      {\n        token: \"keyword\",\n        regex: String.raw`(let|set|use|borrow|mutable)\\b`,\n        beginWord: true,\n      },\n      {\n        token: \"operatorKeyword\",\n        regex: String.raw`(not|and|or)\\b|(w/)`,\n        beginWord: true,\n      },\n      {\n        token: \"operatorKeyword\",\n        regex: String.raw`(=)|(!)|(<)|(>)|(\\+)|(-)|(\\*)|(/)|(\\^)|(%)|(\\|)|(&&&)|(~~~)|(\\.\\.\\.)|(\\.\\.)|(\\?)`,\n        beginWord: false,\n      },\n      {\n        token: \"meta\",\n        regex: String.raw`(Int|BigInt|Double|Bool|Qubit|Pauli|Result|Range|String|Unit)\\b`,\n        beginWord: true,\n      },\n      {\n        token: \"atom\",\n        regex: String.raw`(true|false|Pauli(I|X|Y|Z)|One|Zero)\\b`,\n        beginWord: true,\n      },\n    ];\n    let simpleRules = [];\n    for (let rule of rules) {\n      simpleRules.push({\n        token: rule.token,\n        regex: new RegExp(rule.regex, \"g\"),\n        sol: rule.beginWord,\n      });\n      if (rule.beginWord) {\n        // Need an additional rule due to the fact that CodeMirror simple mode doesn't work with ^ token\n        simpleRules.push({\n          token: rule.token,\n          regex: new RegExp(String.raw`\\W` + rule.regex, \"g\"),\n          sol: false,\n        });\n      }\n    }\n\n    // Register the mode defined above with CodeMirror\n    window.CodeMirror.defineSimpleMode(\"qsharp\", { start: simpleRules });\n    window.CodeMirror.defineMIME(\"text/x-qsharp\", \"qsharp\");\n\n    // Tell Jupyter to associate %%qsharp magic cells with the qsharp mode\n    window.Jupyter.CodeCell.options_default.highlight_modes[\"qsharp\"] = {\n      reg: [/^%%qsharp/],\n    };\n\n    // Force re-highlighting of all cells the first time this code runs\n    for (const cell of window.Jupyter.notebook.get_cells()) {\n      cell.auto_highlight();\n    }\n  });\n}\n",
      "text/plain": []
     },
     "metadata": {},
     "output_type": "display_data"
    },
    {
     "data": {
      "image/png": "[encoded data removed]",
      "text/plain": [
       "<Figure size 640x480 with 1 Axes>"
      ]
     },
     "metadata": {},
     "output_type": "display_data"
    }
   ],
   "source": [
    "# Set up a local quantum machine to execute the program.\n",
    "# Each machine in qstack is created to target a specific stack or instruction set.\n",
    "# This ensures that the machine can correctly interpret and execute the program's instructions.\n",
    "from qstack.machine import local_machine_for, create_callbacks\n",
    "\n",
    "original = program\n",
    "callbacks = create_callbacks(fix)\n",
    "machine = local_machine_for(original.instruction_set, callbacks)\n",
    "\n",
    "# Evaluate the original program and plot the resulting histogram.\n",
    "machine.eval(original).plot_histogram()\n"
   ]
  },
  {
   "cell_type": "code",
   "execution_count": 6,
   "metadata": {},
   "outputs": [
    {
     "name": "stderr",
     "output_type": "stream",
     "text": [
      "2025-06-27 16:53:31,882 - WARNING - Instruction skew has no handler.\n"
     ]
    },
    {
     "name": "stdout",
     "output_type": "stream",
     "text": [
      "@instruction-set: cliffords-min\n",
      "\n",
      "allocate q1:\n",
      "  allocate q2:\n",
      "    allocate q3:\n",
      "      h q2\n",
      "      x q3\n",
      "    measure\n",
      "  measure\n",
      "  ?? _toy2cliffords_:fix(q=q1)\n",
      "measure\n"
     ]
    }
   ],
   "source": [
    "# Compile the program using the ToyCompiler.\n",
    "# The ToyCompiler transforms the program into a lower-level representation.\n",
    "from qstack.compilers.toy2cliffords import ToyCompiler\n",
    "\n",
    "compiler = ToyCompiler()\n",
    "compiled, compiled_callbacks = compiler.compile(original, callbacks)\n",
    "\n",
    "# Print the compiled program to see the transformed representation.\n",
    "print(compiled)\n"
   ]
  },
  {
   "cell_type": "code",
   "execution_count": 7,
   "metadata": {},
   "outputs": [
    {
     "name": "stdout",
     "output_type": "stream",
     "text": [
      "Invalid instruction: h q2\n",
      "This is expected, as the machine is for the original stack...\n"
     ]
    }
   ],
   "source": [
    "# Attempt to evaluate the compiled program using the original machine.\n",
    "# This will fail because the machine is configured for the original stack.\n",
    "try:\n",
    "    machine.eval(compiled).plot_histogram()\n",
    "except Exception as e:\n",
    "    print(e)\n",
    "    print(\"This is expected, as the machine is for the original stack...\")\n"
   ]
  },
  {
   "cell_type": "code",
   "execution_count": 8,
   "metadata": {},
   "outputs": [
    {
     "data": {
      "image/png": "[encoded data removed]",
      "text/plain": [
       "<Figure size 640x480 with 1 Axes>"
      ]
     },
     "metadata": {},
     "output_type": "display_data"
    }
   ],
   "source": [
    "# Set up a new machine for the compiled program's stack and evaluate it.\n",
    "machine = local_machine_for(compiled.instruction_set, callbacks=compiled_callbacks)\n",
    "machine.eval(compiled).plot_histogram()\n"
   ]
  },
  {
   "cell_type": "code",
   "execution_count": 9,
   "metadata": {},
   "outputs": [
    {
     "name": "stderr",
     "output_type": "stream",
     "text": [
      "2025-06-27 16:53:36,273 - WARNING - Instruction z has no handler.\n",
      "2025-06-27 16:53:36,275 - WARNING - Instruction cz has no handler.\n",
      "2025-06-27 16:53:36,277 - WARNING - Instruction cx has no handler.\n",
      "2025-06-27 16:53:36,278 - WARNING - Instruction y has no handler.\n"
     ]
    },
    {
     "name": "stdout",
     "output_type": "stream",
     "text": [
      "@instruction-set: cliffords-min\n",
      "\n",
      "allocate q1.0:\n",
      "  allocate q1.1:\n",
      "    allocate q1.2:\n",
      "      ---\n",
      "      allocate q2.0:\n",
      "        allocate q2.1:\n",
      "          allocate q2.2:\n",
      "            allocate q3.0:\n",
      "              allocate q3.1:\n",
      "                allocate q3.2:\n",
      "                  ---\n",
      "                  h q2.0\n",
      "                  h q2.1\n",
      "                  h q2.2\n",
      "                  ---\n",
      "                  x q3.0\n",
      "                  x q3.1\n",
      "                  x q3.2\n",
      "                measure\n",
      "              measure\n",
      "            measure\n",
      "            ?? decode\n",
      "          measure\n",
      "        measure\n",
      "      measure\n",
      "      ?? decode\n",
      "      ?? _rep3-trivial_:_toy2cliffords_:fix(q=q1)\n",
      "    measure\n",
      "  measure\n",
      "measure\n",
      "?? decode\n"
     ]
    }
   ],
   "source": [
    "# Compile the program further using the TrivialRepetitionCompiler.\n",
    "# This compiler applies a simple repetition code for error correction.\n",
    "from qstack.compilers.rep3_trivial import TrivialRepetitionCompiler\n",
    "\n",
    "compiler = TrivialRepetitionCompiler()\n",
    "rep3, rep3_callbacks = compiler.compile(compiled, compiled_callbacks)\n",
    "\n",
    "# Print the program after applying the repetition code.\n",
    "print(rep3)\n"
   ]
  },
  {
   "cell_type": "code",
   "execution_count": 10,
   "metadata": {},
   "outputs": [
    {
     "data": {
      "image/png": "[encoded data removed]",
      "text/plain": [
       "<Figure size 640x480 with 1 Axes>"
      ]
     },
     "metadata": {},
     "output_type": "display_data"
    }
   ],
   "source": [
    "# Set up a machine for the repetition-coded program and evaluate it.\n",
    "machine = local_machine_for(rep3.instruction_set, callbacks=rep3_callbacks)\n",
    "machine.eval(rep3).plot_histogram()\n"
   ]
  },
  {
   "cell_type": "code",
   "execution_count": 11,
   "metadata": {},
   "outputs": [
    {
     "name": "stdout",
     "output_type": "stream",
     "text": [
      "@instruction-set: cliffords-min\n",
      "\n",
      "---\n",
      "allocate q1.0.0:\n",
      "  allocate q1.0.1:\n",
      "    allocate q1.0.2:\n",
      "      allocate q1.1.0:\n",
      "        allocate q1.1.1:\n",
      "          allocate q1.1.2:\n",
      "            allocate q1.2.0:\n",
      "              allocate q1.2.1:\n",
      "                allocate q1.2.2:\n",
      "                  ---\n",
      "                  ---\n",
      "                  allocate q2.0.0:\n",
      "                    allocate q2.0.1:\n",
      "                      allocate q2.0.2:\n",
      "                        allocate q2.1.0:\n",
      "                          allocate q2.1.1:\n",
      "                            allocate q2.1.2:\n",
      "                              allocate q2.2.0:\n",
      "                                allocate q2.2.1:\n",
      "                                  allocate q2.2.2:\n",
      "                                    ---\n",
      "                                    allocate q3.0.0:\n",
      "                                      allocate q3.0.1:\n",
      "                                        allocate q3.0.2:\n",
      "                                          allocate q3.1.0:\n",
      "                                            allocate q3.1.1:\n",
      "                                              allocate q3.1.2:\n",
      "                                                allocate q3.2.0:\n",
      "                                                  allocate q3.2.1:\n",
      "                                                    allocate q3.2.2:\n",
      "                                                      ---\n",
      "                                                      ---\n",
      "                                                      h q2.0.0\n",
      "                                                      h q2.0.1\n",
      "                                                      h q2.0.2\n",
      "                                                      ---\n",
      "                                                      h q2.1.0\n",
      "                                                      h q2.1.1\n",
      "                                                      h q2.1.2\n",
      "                                                      ---\n",
      "                                                      h q2.2.0\n",
      "                                                      h q2.2.1\n",
      "                                                      h q2.2.2\n",
      "                                                      ---\n",
      "                                                      ---\n",
      "                                                      x q3.0.0\n",
      "                                                      x q3.0.1\n",
      "                                                      x q3.0.2\n",
      "                                                      ---\n",
      "                                                      x q3.1.0\n",
      "                                                      x q3.1.1\n",
      "                                                      x q3.1.2\n",
      "                                                      ---\n",
      "                                                      x q3.2.0\n",
      "                                                      x q3.2.1\n",
      "                                                      x q3.2.2\n",
      "                                                    measure\n",
      "                                                  measure\n",
      "                                                measure\n",
      "                                                ?? decode\n",
      "                                              measure\n",
      "                                            measure\n",
      "                                          measure\n",
      "                                          ?? decode\n",
      "                                        measure\n",
      "                                      measure\n",
      "                                    measure\n",
      "                                    ?? decode\n",
      "                                    ?? _rep3-trivial_:decode\n",
      "                                  measure\n",
      "                                measure\n",
      "                              measure\n",
      "                              ?? decode\n",
      "                            measure\n",
      "                          measure\n",
      "                        measure\n",
      "                        ?? decode\n",
      "                      measure\n",
      "                    measure\n",
      "                  measure\n",
      "                  ?? decode\n",
      "                  ?? _rep3-trivial_:decode\n",
      "                  ?? _rep3-trivial_:_rep3-trivial_:_toy2cliffords_:fix(q=q1)\n",
      "                measure\n",
      "              measure\n",
      "            measure\n",
      "            ?? decode\n",
      "          measure\n",
      "        measure\n",
      "      measure\n",
      "      ?? decode\n",
      "    measure\n",
      "  measure\n",
      "measure\n",
      "?? decode\n",
      "?? _rep3-trivial_:decode\n"
     ]
    }
   ],
   "source": [
    "# Apply the repetition code again to the program.\n",
    "rep3bis, rep3bis_callbacks = compiler.compile(rep3, rep3_callbacks)\n",
    "\n",
    "# Print the program after the second application of the repetition code.\n",
    "print(rep3bis)\n"
   ]
  },
  {
   "cell_type": "code",
   "execution_count": 12,
   "metadata": {},
   "outputs": [],
   "source": [
    "# A single-shot execution runs the program once and returns the measurement outcomes.\n",
    "# This is useful for observing the result of a single execution of the quantum program.\n",
    "\n",
    "# logger.setLevel(logging.DEBUG)\n",
    "\n",
    "# machine = local_machine_for(rep3bis.instruction_set, rep3bis_callbacks)\n",
    "# machine.single_shot(rep3bis)\n"
   ]
  },
  {
   "cell_type": "code",
   "execution_count": null,
   "metadata": {},
   "outputs": [],
   "source": []
  }
 ],
 "metadata": {
  "kernelspec": {
   "display_name": "qstack",
   "language": "python",
   "name": "python3"
  },
  "language_info": {
   "codemirror_mode": {
    "name": "ipython",
    "version": 3
   },
   "file_extension": ".py",
   "mimetype": "text/x-python",
   "name": "python",
   "nbconvert_exporter": "python",
   "pygments_lexer": "ipython3",
   "version": "3.12.3"
  }
 },
 "nbformat": 4,
 "nbformat_minor": 2
}
