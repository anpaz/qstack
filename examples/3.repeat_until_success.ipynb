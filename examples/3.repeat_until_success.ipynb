{
 "cells": [
  {
   "cell_type": "code",
   "execution_count": 1,
   "metadata": {},
   "outputs": [],
   "source": [
    "# This a toy-example demonstrates the creation of a Bell state and then applying\n",
    "# a classical loop to keep mixing the state of the qubit until\n",
    "# the prepared qubit is in the |0> state.\n",
    "# The program uses a toy layer to define the quantum operations.\n",
    "import qstack\n",
    "\n",
    "program = None"
   ]
  },
  {
   "cell_type": "code",
   "execution_count": 2,
   "metadata": {},
   "outputs": [
    {
     "data": {
      "text/plain": [
       "[Kernel(targets=(QubitId(value='q1'),), instructions=(QuantumInstruction(name='mix', targets=[QubitId(value='q1')], parameters={}), Kernel(targets=(QubitId(value='q2'),), instructions=(QuantumInstruction(name='entangle', targets=[QubitId(value='q1'), QubitId(value='q2')], parameters={}),), callback=None)), callback=None)]"
      ]
     },
     "execution_count": 2,
     "metadata": {},
     "output_type": "execute_result"
    }
   ],
   "source": [
    "%%qstack\n",
    "@instruction-set: toy\n",
    "\n",
    "allocate q1:\n",
    "  mix q1\n",
    "  allocate q2:\n",
    "    entangle q1 q2\n",
    "  measure\n",
    "measure\n"
   ]
  },
  {
   "cell_type": "code",
   "execution_count": 3,
   "metadata": {},
   "outputs": [
    {
     "data": {
      "application/javascript": "// Copyright (c) Microsoft Corporation.\n// Licensed under the MIT License.\n\n// This file provides CodeMirror syntax highlighting for Q# magic cells\n// in classic Jupyter Notebooks. It does nothing in other (Jupyter Notebook 7,\n// VS Code, Azure Notebooks, etc.) environments.\n\n// Detect the prerequisites and do nothing if they don't exist.\nif (window.require && window.CodeMirror && window.Jupyter) {\n  // The simple mode plugin for CodeMirror is not loaded by default, so require it.\n  window.require([\"codemirror/addon/mode/simple\"], function defineMode() {\n    let rules = [\n      {\n        token: \"comment\",\n        regex: /(\\/\\/).*/,\n        beginWord: false,\n      },\n      {\n        token: \"string\",\n        regex: String.raw`^\\\"(?:[^\\\"\\\\]|\\\\[\\s\\S])*(?:\\\"|$)`,\n        beginWord: false,\n      },\n      {\n        token: \"keyword\",\n        regex: String.raw`(namespace|open|as|operation|function|body|adjoint|newtype|controlled|internal)\\b`,\n        beginWord: true,\n      },\n      {\n        token: \"keyword\",\n        regex: String.raw`(if|elif|else|repeat|until|fixup|for|in|return|fail|within|apply)\\b`,\n        beginWord: true,\n      },\n      {\n        token: \"keyword\",\n        regex: String.raw`(Adjoint|Controlled|Adj|Ctl|is|self|auto|distribute|invert|intrinsic)\\b`,\n        beginWord: true,\n      },\n      {\n        token: \"keyword\",\n        regex: String.raw`(let|set|use|borrow|mutable)\\b`,\n        beginWord: true,\n      },\n      {\n        token: \"operatorKeyword\",\n        regex: String.raw`(not|and|or)\\b|(w/)`,\n        beginWord: true,\n      },\n      {\n        token: \"operatorKeyword\",\n        regex: String.raw`(=)|(!)|(<)|(>)|(\\+)|(-)|(\\*)|(/)|(\\^)|(%)|(\\|)|(&&&)|(~~~)|(\\.\\.\\.)|(\\.\\.)|(\\?)`,\n        beginWord: false,\n      },\n      {\n        token: \"meta\",\n        regex: String.raw`(Int|BigInt|Double|Bool|Qubit|Pauli|Result|Range|String|Unit)\\b`,\n        beginWord: true,\n      },\n      {\n        token: \"atom\",\n        regex: String.raw`(true|false|Pauli(I|X|Y|Z)|One|Zero)\\b`,\n        beginWord: true,\n      },\n    ];\n    let simpleRules = [];\n    for (let rule of rules) {\n      simpleRules.push({\n        token: rule.token,\n        regex: new RegExp(rule.regex, \"g\"),\n        sol: rule.beginWord,\n      });\n      if (rule.beginWord) {\n        // Need an additional rule due to the fact that CodeMirror simple mode doesn't work with ^ token\n        simpleRules.push({\n          token: rule.token,\n          regex: new RegExp(String.raw`\\W` + rule.regex, \"g\"),\n          sol: false,\n        });\n      }\n    }\n\n    // Register the mode defined above with CodeMirror\n    window.CodeMirror.defineSimpleMode(\"qsharp\", { start: simpleRules });\n    window.CodeMirror.defineMIME(\"text/x-qsharp\", \"qsharp\");\n\n    // Tell Jupyter to associate %%qsharp magic cells with the qsharp mode\n    window.Jupyter.CodeCell.options_default.highlight_modes[\"qsharp\"] = {\n      reg: [/^%%qsharp/],\n    };\n\n    // Force re-highlighting of all cells the first time this code runs\n    for (const cell of window.Jupyter.notebook.get_cells()) {\n      cell.auto_highlight();\n    }\n  });\n}\n",
      "text/plain": []
     },
     "metadata": {},
     "output_type": "display_data"
    }
   ],
   "source": [
    "# Set up a local quantum machine to execute the program.\n",
    "# Each machine in qstack is created to target a specific stack or instruction set.\n",
    "# This ensures that the machine can correctly interpret and execute the program's instructions.\n",
    "from qstack.machine import local_machine_for, create_callbacks\n",
    "\n",
    "machine = local_machine_for(program.instruction_set)\n"
   ]
  },
  {
   "cell_type": "code",
   "execution_count": 4,
   "metadata": {},
   "outputs": [
    {
     "data": {
      "image/png": "[encoded data removed]",
      "text/plain": [
       "<Figure size 640x480 with 1 Axes>"
      ]
     },
     "metadata": {},
     "output_type": "display_data"
    }
   ],
   "source": [
    "# Evaluate the program, it should give an even distribution betweek \n",
    "# (,0,0) and (1,1) when measuring the two qubits.\n",
    "\n",
    "machine.eval(program).plot_histogram()\n"
   ]
  },
  {
   "cell_type": "code",
   "execution_count": 5,
   "metadata": {},
   "outputs": [
    {
     "data": {
      "text/plain": [
       "[Kernel(targets=(QubitId(value='q1'),), instructions=(QuantumInstruction(name='mix', targets=[QubitId(value='q1')], parameters={}), Kernel(targets=(QubitId(value='q2'),), instructions=(QuantumInstruction(name='entangle', targets=[QubitId(value='q1'), QubitId(value='q2')], parameters={}),), callback=ClassicInstruction(name='repeat_until_zero', parameters={}))), callback=None)]"
      ]
     },
     "execution_count": 5,
     "metadata": {},
     "output_type": "execute_result"
    }
   ],
   "source": [
    "%%qstack\n",
    "# Now incorporate a classical callback called repeat_until_zero...\n",
    "# This callback will keep mixing the state of a qubit until the last outcome is \"0\".\n",
    "@instruction-set: toy\n",
    "\n",
    "allocate q1:\n",
    "  mix q1\n",
    "  allocate q2:\n",
    "    entangle q1 q2\n",
    "  measure\n",
    "  ?? repeat_until_zero\n",
    "measure\n"
   ]
  },
  {
   "cell_type": "code",
   "execution_count": 6,
   "metadata": {},
   "outputs": [],
   "source": [
    "## The actual classical implementation of the callback:\n",
    "from qstack.instruction_sets.toy import Mix\n",
    "\n",
    "# Define a classical callback for state preparation.\n",
    "def repeat_until_zero(context):\n",
    "    m = context.consume() \n",
    "\n",
    "    if m == 1:\n",
    "        return qstack.Kernel(targets=[\"q\"], instructions=[Mix(\"q\")], callback=qstack.ClassicInstruction(\"repeat_until_zero\", parameters={}))\n",
    "    else:\n",
    "        context.collect(m)\n",
    "        return None\n",
    "\n"
   ]
  },
  {
   "cell_type": "code",
   "execution_count": 7,
   "metadata": {},
   "outputs": [],
   "source": [
    "# We need a new machine for this program that can\n",
    "# invoke the classical callback\n",
    "\n",
    "callbacks = create_callbacks(repeat_until_zero)\n",
    "machine = local_machine_for(program.instruction_set, callbacks)\n"
   ]
  },
  {
   "cell_type": "code",
   "execution_count": 8,
   "metadata": {},
   "outputs": [
    {
     "data": {
      "image/png": "[encoded data removed]",
      "text/plain": [
       "<Figure size 640x480 with 1 Axes>"
      ]
     },
     "metadata": {},
     "output_type": "display_data"
    }
   ],
   "source": [
    "# The new histogram returns a distribution of\n",
    "# (0,0) and (1,0) as the \n",
    "\n",
    "machine.eval(program).plot_histogram()\n"
   ]
  },
  {
   "cell_type": "code",
   "execution_count": 9,
   "metadata": {},
   "outputs": [],
   "source": [
    "# Let's  turn on the logs\n",
    "# and see the actual evaluation of the program.\n",
    "# You'll notice that the number of calls to mix depends on the outcome as expected.\n",
    "import logging\n",
    "\n",
    "logger = logging.getLogger(\"qstack\")\n",
    "\n",
    "handler = logging.StreamHandler()\n",
    "formatter = logging.Formatter(\"%(asctime)s - %(levelname)s - %(message)s\")\n",
    "handler.setFormatter(formatter)\n",
    "logger.addHandler(handler)\n",
    "logger.setLevel(logging.DEBUG)"
   ]
  },
  {
   "cell_type": "code",
   "execution_count": 10,
   "metadata": {},
   "outputs": [
    {
     "name": "stderr",
     "output_type": "stream",
     "text": [
      "2025-05-17 22:14:56,642 - DEBUG - restart: 2\n",
      "2025-05-17 22:14:56,648 - DEBUG - eval: mix [1]\n",
      "2025-05-17 22:14:56,651 - DEBUG - eval: entangle [0, 1]\n",
      "2025-05-17 22:14:56,652 - DEBUG - outcome: 1\n",
      "2025-05-17 22:14:56,654 - DEBUG - eval: mix [0]\n",
      "2025-05-17 22:14:56,655 - DEBUG - outcome: 1\n",
      "2025-05-17 22:14:56,657 - DEBUG - eval: mix [0]\n",
      "2025-05-17 22:14:56,658 - DEBUG - outcome: 1\n",
      "2025-05-17 22:14:56,661 - DEBUG - eval: mix [0]\n",
      "2025-05-17 22:14:56,668 - DEBUG - outcome: 1\n",
      "2025-05-17 22:14:56,670 - DEBUG - eval: mix [0]\n",
      "2025-05-17 22:14:56,673 - DEBUG - outcome: 0\n",
      "2025-05-17 22:14:56,675 - DEBUG - outcome: 1\n"
     ]
    },
    {
     "data": {
      "text/plain": [
       "(1, 0)"
      ]
     },
     "execution_count": 10,
     "metadata": {},
     "output_type": "execute_result"
    }
   ],
   "source": [
    "machine.single_shot(program)"
   ]
  },
  {
   "cell_type": "code",
   "execution_count": 15,
   "metadata": {},
   "outputs": [
    {
     "name": "stderr",
     "output_type": "stream",
     "text": [
      "2025-05-17 12:04:31,070 - DEBUG - restart: 2\n",
      "2025-05-17 12:04:31,073 - DEBUG - eval: mix [1]\n",
      "2025-05-17 12:04:31,078 - DEBUG - eval: entangle [0, 1]\n",
      "2025-05-17 12:04:31,080 - DEBUG - outcome: 1\n",
      "2025-05-17 12:04:31,081 - DEBUG - eval: mix [0]\n",
      "2025-05-17 12:04:31,082 - DEBUG - outcome: 0\n",
      "2025-05-17 12:04:31,083 - DEBUG - outcome: 1\n"
     ]
    },
    {
     "data": {
      "text/plain": [
       "(1, 0)"
      ]
     },
     "execution_count": 15,
     "metadata": {},
     "output_type": "execute_result"
    }
   ],
   "source": [
    "machine.single_shot(program)"
   ]
  },
  {
   "cell_type": "code",
   "execution_count": 27,
   "metadata": {},
   "outputs": [
    {
     "name": "stderr",
     "output_type": "stream",
     "text": [
      "2025-05-17 12:04:39,944 - DEBUG - restart: 2\n",
      "2025-05-17 12:04:39,947 - DEBUG - eval: mix [1]\n",
      "2025-05-17 12:04:39,950 - DEBUG - eval: entangle [0, 1]\n",
      "2025-05-17 12:04:39,951 - DEBUG - outcome: 1\n",
      "2025-05-17 12:04:39,953 - DEBUG - eval: mix [0]\n",
      "2025-05-17 12:04:39,954 - DEBUG - outcome: 1\n",
      "2025-05-17 12:04:39,956 - DEBUG - eval: mix [0]\n",
      "2025-05-17 12:04:39,957 - DEBUG - outcome: 1\n",
      "2025-05-17 12:04:39,959 - DEBUG - eval: mix [0]\n",
      "2025-05-17 12:04:39,961 - DEBUG - outcome: 0\n",
      "2025-05-17 12:04:39,962 - DEBUG - outcome: 1\n"
     ]
    },
    {
     "data": {
      "text/plain": [
       "(1, 0)"
      ]
     },
     "execution_count": 27,
     "metadata": {},
     "output_type": "execute_result"
    }
   ],
   "source": [
    "machine.single_shot(program)"
   ]
  },
  {
   "cell_type": "code",
   "execution_count": null,
   "metadata": {},
   "outputs": [
    {
     "name": "stderr",
     "output_type": "stream",
     "text": [
      "2025-05-17 22:15:41,735 - WARNING - Instruction skew has no handler.\n"
     ]
    },
    {
     "name": "stdout",
     "output_type": "stream",
     "text": [
      "@instruction-set: cliffords-min\n",
      "\n",
      "allocate q1:\n",
      "  h q1\n",
      "  allocate q2:\n",
      "    cx q1 q2\n",
      "  measure\n",
      "  ?? _toy2cliffords_:repeat_until_zero\n",
      "measure\n"
     ]
    }
   ],
   "source": [
    "# Compile the toy program to the minimal Clifford instruction set.\n",
    "# This step translates the toy instructions (like 'mix' and 'entangle')\n",
    "# into a form that can be executed by a Clifford-based backend.\n",
    "# Note: The classical callback (repeat_until_zero) may generate new kernels at runtime.\n",
    "# When compiling, the compiler does not directly transform these dynamically generated kernels.\n",
    "# Instead, it wraps the classical callback into a function that, when invoked, first evaluates\n",
    "# the kernel and then just-in-time (JIT) compiles it before execution.\n",
    "from qstack.compilers.toy2cliffords import ToyCompiler\n",
    "\n",
    "compiler = ToyCompiler()\n",
    "compiled, compiled_callbacks = compiler.compile(program, callbacks)\n",
    "\n",
    "# Print the compiled program to see the transformed representation.\n",
    "print(compiled)\n"
   ]
  },
  {
   "cell_type": "code",
   "execution_count": 23,
   "metadata": {},
   "outputs": [
    {
     "name": "stderr",
     "output_type": "stream",
     "text": [
      "2025-05-17 22:29:53,781 - DEBUG - Found gate z: [[1, 0], [0, -1]]\n",
      "2025-05-17 22:29:53,787 - DEBUG - Found gate cx: [[1, 0, 0, 0], [0, 1, 0, 0], [0, 0, 0, 1], [0, 0, 1, 0]]\n",
      "2025-05-17 22:29:53,792 - DEBUG - Found gate h: [[0.7071, 0.7071], [0.7071, -0.7071]]\n",
      "2025-05-17 22:29:53,796 - DEBUG - Found gate x: [[0, 1], [1, 0]]\n",
      "2025-05-17 22:29:53,798 - DEBUG - Found gate y: [[0, (-0-1j)], [1j, 0]]\n",
      "2025-05-17 22:29:53,800 - DEBUG - Found gate cz: [[1, 0, 0, 0], [0, 1, 0, 0], [0, 0, 1, 0], [0, 0, 0, -1]]\n",
      "2025-05-17 22:29:53,803 - DEBUG - restart: 2\n",
      "2025-05-17 22:29:53,804 - DEBUG - eval: h [1]\n",
      "2025-05-17 22:29:53,808 - DEBUG - eval: cx [0, 1]\n",
      "2025-05-17 22:29:53,810 - DEBUG - outcome: 1\n",
      "2025-05-17 22:29:53,812 - DEBUG - eval: h [0]\n",
      "2025-05-17 22:29:53,814 - DEBUG - outcome: 0\n",
      "2025-05-17 22:29:53,816 - DEBUG - outcome: 1\n"
     ]
    },
    {
     "data": {
      "text/plain": [
       "(1, 0)"
      ]
     },
     "execution_count": 23,
     "metadata": {},
     "output_type": "execute_result"
    }
   ],
   "source": [
    "# Evaluate the compiled program using the minimal Clifford instruction set.\n",
    "# The logs will show that the quantum instructions evaluated are not those returned by the original callback,\n",
    "# but the ones corresponding to those after compilation.\n",
    "# The logs will not show that the kernel is compiled JIT, but you can observe the effect by the instructions executed.\n",
    "machine = local_machine_for(compiled.instruction_set, compiled_callbacks)\n",
    "\n",
    "machine.single_shot(compiled)"
   ]
  },
  {
   "cell_type": "code",
   "execution_count": null,
   "metadata": {},
   "outputs": [],
   "source": []
  }
 ],
 "metadata": {
  "kernelspec": {
   "display_name": "qstack",
   "language": "python",
   "name": "python3"
  },
  "language_info": {
   "codemirror_mode": {
    "name": "ipython",
    "version": 3
   },
   "file_extension": ".py",
   "mimetype": "text/x-python",
   "name": "python",
   "nbconvert_exporter": "python",
   "pygments_lexer": "ipython3",
   "version": "3.12.3"
  }
 },
 "nbformat": 4,
 "nbformat_minor": 2
}
