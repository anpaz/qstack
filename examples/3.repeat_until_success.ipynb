{
 "cells": [
  {
   "cell_type": "code",
   "execution_count": 1,
   "metadata": {},
   "outputs": [],
   "source": [
    "# This a toy-example demonstrates the creation of a Bell state and then applying\n",
    "# a classical loop to keep mixing the state of the qubit until\n",
    "# the prepared qubit is in the |0> state.\n",
    "# The program uses a toy layer to define the quantum operations.\n",
    "import qstack\n",
    "\n",
    "program = None"
   ]
  },
  {
   "cell_type": "code",
   "execution_count": 2,
   "metadata": {},
   "outputs": [
    {
     "data": {
      "text/plain": [
       "[Kernel(targets=(QubitId(value='q1'),), instructions=(QuantumInstruction(name='mix', targets=[QubitId(value='q1')], parameters={}), Kernel(targets=(QubitId(value='q2'),), instructions=(QuantumInstruction(name='entangle', targets=[QubitId(value='q1'), QubitId(value='q2')], parameters={}),), callback=None)), callback=None)]"
      ]
     },
     "execution_count": 2,
     "metadata": {},
     "output_type": "execute_result"
    }
   ],
   "source": [
    "%%qstack\n",
    "@instruction-set: toy\n",
    "\n",
    "allocate q1:\n",
    "  mix q1\n",
    "  allocate q2:\n",
    "    entangle q1 q2\n",
    "  measure\n",
    "measure\n"
   ]
  },
  {
   "cell_type": "code",
   "execution_count": 3,
   "metadata": {},
   "outputs": [
    {
     "data": {
      "application/javascript": "// Copyright (c) Microsoft Corporation.\n// Licensed under the MIT License.\n\n// This file provides CodeMirror syntax highlighting for Q# magic cells\n// in classic Jupyter Notebooks. It does nothing in other (Jupyter Notebook 7,\n// VS Code, Azure Notebooks, etc.) environments.\n\n// Detect the prerequisites and do nothing if they don't exist.\nif (window.require && window.CodeMirror && window.Jupyter) {\n  // The simple mode plugin for CodeMirror is not loaded by default, so require it.\n  window.require([\"codemirror/addon/mode/simple\"], function defineMode() {\n    let rules = [\n      {\n        token: \"comment\",\n        regex: /(\\/\\/).*/,\n        beginWord: false,\n      },\n      {\n        token: \"string\",\n        regex: String.raw`^\\\"(?:[^\\\"\\\\]|\\\\[\\s\\S])*(?:\\\"|$)`,\n        beginWord: false,\n      },\n      {\n        token: \"keyword\",\n        regex: String.raw`(namespace|open|as|operation|function|body|adjoint|newtype|controlled|internal)\\b`,\n        beginWord: true,\n      },\n      {\n        token: \"keyword\",\n        regex: String.raw`(if|elif|else|repeat|until|fixup|for|in|return|fail|within|apply)\\b`,\n        beginWord: true,\n      },\n      {\n        token: \"keyword\",\n        regex: String.raw`(Adjoint|Controlled|Adj|Ctl|is|self|auto|distribute|invert|intrinsic)\\b`,\n        beginWord: true,\n      },\n      {\n        token: \"keyword\",\n        regex: String.raw`(let|set|use|borrow|mutable)\\b`,\n        beginWord: true,\n      },\n      {\n        token: \"operatorKeyword\",\n        regex: String.raw`(not|and|or)\\b|(w/)`,\n        beginWord: true,\n      },\n      {\n        token: \"operatorKeyword\",\n        regex: String.raw`(=)|(!)|(<)|(>)|(\\+)|(-)|(\\*)|(/)|(\\^)|(%)|(\\|)|(&&&)|(~~~)|(\\.\\.\\.)|(\\.\\.)|(\\?)`,\n        beginWord: false,\n      },\n      {\n        token: \"meta\",\n        regex: String.raw`(Int|BigInt|Double|Bool|Qubit|Pauli|Result|Range|String|Unit)\\b`,\n        beginWord: true,\n      },\n      {\n        token: \"atom\",\n        regex: String.raw`(true|false|Pauli(I|X|Y|Z)|One|Zero)\\b`,\n        beginWord: true,\n      },\n    ];\n    let simpleRules = [];\n    for (let rule of rules) {\n      simpleRules.push({\n        token: rule.token,\n        regex: new RegExp(rule.regex, \"g\"),\n        sol: rule.beginWord,\n      });\n      if (rule.beginWord) {\n        // Need an additional rule due to the fact that CodeMirror simple mode doesn't work with ^ token\n        simpleRules.push({\n          token: rule.token,\n          regex: new RegExp(String.raw`\\W` + rule.regex, \"g\"),\n          sol: false,\n        });\n      }\n    }\n\n    // Register the mode defined above with CodeMirror\n    window.CodeMirror.defineSimpleMode(\"qsharp\", { start: simpleRules });\n    window.CodeMirror.defineMIME(\"text/x-qsharp\", \"qsharp\");\n\n    // Tell Jupyter to associate %%qsharp magic cells with the qsharp mode\n    window.Jupyter.CodeCell.options_default.highlight_modes[\"qsharp\"] = {\n      reg: [/^%%qsharp/],\n    };\n\n    // Force re-highlighting of all cells the first time this code runs\n    for (const cell of window.Jupyter.notebook.get_cells()) {\n      cell.auto_highlight();\n    }\n  });\n}\n",
      "text/plain": []
     },
     "metadata": {},
     "output_type": "display_data"
    }
   ],
   "source": [
    "# Set up a local quantum machine to execute the program.\n",
    "# Each machine in qstack is created to target a specific stack or instruction set.\n",
    "# This ensures that the machine can correctly interpret and execute the program's instructions.\n",
    "from qstack.machine import local_machine_for, create_callbacks\n",
    "\n",
    "machine = local_machine_for(program.instruction_set)\n"
   ]
  },
  {
   "cell_type": "code",
   "execution_count": 4,
   "metadata": {},
   "outputs": [
    {
     "data": {
      "image/png": "[encoded data removed]",
      "text/plain": [
       "<Figure size 640x480 with 1 Axes>"
      ]
     },
     "metadata": {},
     "output_type": "display_data"
    }
   ],
   "source": [
    "# Evaluate the program, it should give an even distribution betweek \n",
    "# (,0,0) and (1,1) when measuring the two qubits.\n",
    "\n",
    "machine.eval(program).plot_histogram()\n"
   ]
  },
  {
   "cell_type": "code",
   "execution_count": 5,
   "metadata": {},
   "outputs": [
    {
     "data": {
      "text/plain": [
       "[Kernel(targets=(QubitId(value='q1'),), instructions=(QuantumInstruction(name='mix', targets=[QubitId(value='q1')], parameters={}), Kernel(targets=(QubitId(value='q2'),), instructions=(QuantumInstruction(name='entangle', targets=[QubitId(value='q1'), QubitId(value='q2')], parameters={}),), callback=None)), callback=ClassicInstruction(name='repeat_until_zero', parameters={}))]"
      ]
     },
     "execution_count": 5,
     "metadata": {},
     "output_type": "execute_result"
    }
   ],
   "source": [
    "%%qstack\n",
    "# Now incorporate a classical callback called repeat_until_zero...\n",
    "# This callback will keep running the kernel until the outcome is \"0\".\n",
    "# Since we're just consuming one outcome, the final result will be 0 followed by a list of 1s,\n",
    "# a 1 for each time the loop was executed.\n",
    "@instruction-set: toy\n",
    "\n",
    "allocate q1:\n",
    "  mix q1\n",
    "  allocate q2:\n",
    "    entangle q1 q2\n",
    "  measure\n",
    "measure\n",
    "?? repeat_until_zero\n"
   ]
  },
  {
   "cell_type": "code",
   "execution_count": 6,
   "metadata": {},
   "outputs": [],
   "source": [
    "## The actual classical implementation of the callback:\n",
    "from qstack.instruction_sets.toy import Mix, Entangle\n",
    "\n",
    "# Define a classical callback for state preparation.\n",
    "def repeat_until_zero(context):\n",
    "    m = context.consume() \n",
    "\n",
    "    if m == 1:\n",
    "        return qstack.Kernel(\n",
    "            targets=[\"q1\", \"q2\"], \n",
    "            instructions=[Mix(\"q1\"), Entangle(\"q1\", \"q2\")], \n",
    "            callback=qstack.ClassicInstruction(\"repeat_until_zero\", parameters={}))\n",
    "    else:\n",
    "        return None\n",
    "\n"
   ]
  },
  {
   "cell_type": "code",
   "execution_count": 7,
   "metadata": {},
   "outputs": [],
   "source": [
    "# We need a new machine for this program that can\n",
    "# invoke the classical callback\n",
    "\n",
    "callbacks = create_callbacks(repeat_until_zero)\n",
    "machine = local_machine_for(program.instruction_set, callbacks)\n"
   ]
  },
  {
   "cell_type": "code",
   "execution_count": 8,
   "metadata": {},
   "outputs": [
    {
     "data": {
      "image/png": "[encoded data removed]",
      "text/plain": [
       "<Figure size 640x480 with 1 Axes>"
      ]
     },
     "metadata": {},
     "output_type": "display_data"
    }
   ],
   "source": [
    "# The new histogram returns a distribution of bitstrings that start with 0\n",
    "# followed by 1, the longer sequences appear much less, should be in exponential decay.\n",
    "\n",
    "machine.eval(program).plot_histogram()\n"
   ]
  },
  {
   "cell_type": "code",
   "execution_count": 9,
   "metadata": {},
   "outputs": [],
   "source": [
    "# Let's  turn on the logs\n",
    "# and see the actual evaluation of the program.\n",
    "# You'll notice that the number of calls to mix depends on the outcome as expected.\n",
    "import logging\n",
    "\n",
    "logger = logging.getLogger(\"qstack\")\n",
    "\n",
    "handler = logging.StreamHandler()\n",
    "formatter = logging.Formatter(\"%(asctime)s - %(levelname)s - %(message)s\")\n",
    "handler.setFormatter(formatter)\n",
    "logger.addHandler(handler)\n",
    "logger.setLevel(logging.DEBUG)"
   ]
  },
  {
   "cell_type": "code",
   "execution_count": 10,
   "metadata": {},
   "outputs": [
    {
     "name": "stderr",
     "output_type": "stream",
     "text": [
      "2025-05-26 18:28:39,473 - DEBUG - restart: 2\n",
      "2025-05-26 18:28:39,479 - DEBUG - eval: mix [1]\n",
      "2025-05-26 18:28:39,482 - DEBUG - eval: entangle [0, 1]\n",
      "2025-05-26 18:28:39,485 - DEBUG - outcome: 0\n",
      "2025-05-26 18:28:39,487 - DEBUG - outcome: 0\n"
     ]
    },
    {
     "data": {
      "text/plain": [
       "(0,)"
      ]
     },
     "execution_count": 10,
     "metadata": {},
     "output_type": "execute_result"
    }
   ],
   "source": [
    "machine.single_shot(program)"
   ]
  },
  {
   "cell_type": "code",
   "execution_count": 11,
   "metadata": {},
   "outputs": [
    {
     "name": "stderr",
     "output_type": "stream",
     "text": [
      "2025-05-26 18:28:39,509 - DEBUG - restart: 2\n",
      "2025-05-26 18:28:39,515 - DEBUG - eval: mix [1]\n",
      "2025-05-26 18:28:39,517 - DEBUG - eval: entangle [0, 1]\n",
      "2025-05-26 18:28:39,519 - DEBUG - outcome: 1\n",
      "2025-05-26 18:28:39,520 - DEBUG - outcome: 1\n",
      "2025-05-26 18:28:39,521 - DEBUG - eval: mix [1]\n",
      "2025-05-26 18:28:39,523 - DEBUG - eval: entangle [0, 1]\n",
      "2025-05-26 18:28:39,525 - DEBUG - outcome: 1\n",
      "2025-05-26 18:28:39,528 - DEBUG - outcome: 1\n",
      "2025-05-26 18:28:39,529 - DEBUG - eval: mix [1]\n",
      "2025-05-26 18:28:39,530 - DEBUG - eval: entangle [0, 1]\n",
      "2025-05-26 18:28:39,531 - DEBUG - outcome: 0\n",
      "2025-05-26 18:28:39,532 - DEBUG - outcome: 0\n"
     ]
    },
    {
     "data": {
      "text/plain": [
       "(0, 1, 1)"
      ]
     },
     "execution_count": 11,
     "metadata": {},
     "output_type": "execute_result"
    }
   ],
   "source": [
    "machine.single_shot(program)"
   ]
  },
  {
   "cell_type": "code",
   "execution_count": 26,
   "metadata": {},
   "outputs": [
    {
     "name": "stderr",
     "output_type": "stream",
     "text": [
      "2025-05-26 18:28:58,477 - DEBUG - restart: 2\n",
      "2025-05-26 18:28:58,480 - DEBUG - eval: mix [1]\n",
      "2025-05-26 18:28:58,482 - DEBUG - eval: entangle [0, 1]\n",
      "2025-05-26 18:28:58,484 - DEBUG - outcome: 1\n",
      "2025-05-26 18:28:58,486 - DEBUG - outcome: 1\n",
      "2025-05-26 18:28:58,487 - DEBUG - eval: mix [1]\n",
      "2025-05-26 18:28:58,489 - DEBUG - eval: entangle [0, 1]\n",
      "2025-05-26 18:28:58,490 - DEBUG - outcome: 1\n",
      "2025-05-26 18:28:58,493 - DEBUG - outcome: 1\n",
      "2025-05-26 18:28:58,495 - DEBUG - eval: mix [1]\n",
      "2025-05-26 18:28:58,497 - DEBUG - eval: entangle [0, 1]\n",
      "2025-05-26 18:28:58,501 - DEBUG - outcome: 1\n",
      "2025-05-26 18:28:58,504 - DEBUG - outcome: 1\n",
      "2025-05-26 18:28:58,515 - DEBUG - eval: mix [1]\n",
      "2025-05-26 18:28:58,519 - DEBUG - eval: entangle [0, 1]\n",
      "2025-05-26 18:28:58,521 - DEBUG - outcome: 1\n",
      "2025-05-26 18:28:58,523 - DEBUG - outcome: 1\n",
      "2025-05-26 18:28:58,525 - DEBUG - eval: mix [1]\n",
      "2025-05-26 18:28:58,528 - DEBUG - eval: entangle [0, 1]\n",
      "2025-05-26 18:28:58,530 - DEBUG - outcome: 1\n",
      "2025-05-26 18:28:58,532 - DEBUG - outcome: 1\n",
      "2025-05-26 18:28:58,536 - DEBUG - eval: mix [1]\n",
      "2025-05-26 18:28:58,538 - DEBUG - eval: entangle [0, 1]\n",
      "2025-05-26 18:28:58,539 - DEBUG - outcome: 0\n",
      "2025-05-26 18:28:58,541 - DEBUG - outcome: 0\n"
     ]
    },
    {
     "data": {
      "text/plain": [
       "(0, 1, 1, 1, 1, 1)"
      ]
     },
     "execution_count": 26,
     "metadata": {},
     "output_type": "execute_result"
    }
   ],
   "source": [
    "machine.single_shot(program)"
   ]
  },
  {
   "cell_type": "code",
   "execution_count": 27,
   "metadata": {},
   "outputs": [
    {
     "name": "stderr",
     "output_type": "stream",
     "text": [
      "2025-05-26 18:29:03,344 - WARNING - Instruction skew has no handler.\n"
     ]
    },
    {
     "name": "stdout",
     "output_type": "stream",
     "text": [
      "@instruction-set: cliffords-min\n",
      "\n",
      "allocate q1:\n",
      "  h q1\n",
      "  allocate q2:\n",
      "    cx q1 q2\n",
      "  measure\n",
      "measure\n",
      "?? _toy2cliffords_:repeat_until_zero\n"
     ]
    }
   ],
   "source": [
    "# Compile the toy program to the minimal Clifford instruction set.\n",
    "# This step translates the toy instructions (like 'mix' and 'entangle')\n",
    "# into a form that can be executed by a Clifford-based backend.\n",
    "# Note: The classical callback (repeat_until_zero) may generate new kernels at runtime.\n",
    "# When compiling, the compiler does not directly transform these dynamically generated kernels.\n",
    "# Instead, it wraps the classical callback into a function that, when invoked, first evaluates\n",
    "# the kernel and then just-in-time (JIT) compiles it before execution.\n",
    "from qstack.compilers.toy2cliffords import ToyCompiler\n",
    "\n",
    "compiler = ToyCompiler()\n",
    "compiled, compiled_callbacks = compiler.compile(program, callbacks)\n",
    "\n",
    "# Print the compiled program to see the transformed representation.\n",
    "print(compiled)\n"
   ]
  },
  {
   "cell_type": "code",
   "execution_count": 32,
   "metadata": {},
   "outputs": [
    {
     "name": "stderr",
     "output_type": "stream",
     "text": [
      "2025-05-26 18:29:09,238 - DEBUG - Found gate x: [[0, 1], [1, 0]]\n",
      "2025-05-26 18:29:09,242 - DEBUG - Found gate y: [[0, (-0-1j)], [1j, 0]]\n",
      "2025-05-26 18:29:09,244 - DEBUG - Found gate h: [[0.7071, 0.7071], [0.7071, -0.7071]]\n",
      "2025-05-26 18:29:09,246 - DEBUG - Found gate cz: [[1, 0, 0, 0], [0, 1, 0, 0], [0, 0, 1, 0], [0, 0, 0, -1]]\n",
      "2025-05-26 18:29:09,249 - DEBUG - Found gate z: [[1, 0], [0, -1]]\n",
      "2025-05-26 18:29:09,251 - DEBUG - Found gate cx: [[1, 0, 0, 0], [0, 1, 0, 0], [0, 0, 0, 1], [0, 0, 1, 0]]\n",
      "2025-05-26 18:29:09,255 - DEBUG - restart: 2\n",
      "2025-05-26 18:29:09,259 - DEBUG - eval: h [1]\n",
      "2025-05-26 18:29:09,261 - DEBUG - eval: cx [0, 1]\n",
      "2025-05-26 18:29:09,263 - DEBUG - outcome: 1\n",
      "2025-05-26 18:29:09,264 - DEBUG - outcome: 1\n",
      "2025-05-26 18:29:09,266 - DEBUG - eval: h [1]\n",
      "2025-05-26 18:29:09,268 - DEBUG - eval: cx [0, 1]\n",
      "2025-05-26 18:29:09,269 - DEBUG - outcome: 1\n",
      "2025-05-26 18:29:09,270 - DEBUG - outcome: 1\n",
      "2025-05-26 18:29:09,272 - DEBUG - eval: h [1]\n",
      "2025-05-26 18:29:09,273 - DEBUG - eval: cx [0, 1]\n",
      "2025-05-26 18:29:09,279 - DEBUG - outcome: 0\n",
      "2025-05-26 18:29:09,281 - DEBUG - outcome: 0\n"
     ]
    },
    {
     "data": {
      "text/plain": [
       "(0, 1, 1)"
      ]
     },
     "execution_count": 32,
     "metadata": {},
     "output_type": "execute_result"
    }
   ],
   "source": [
    "# Evaluate the compiled program using the minimal Clifford instruction set.\n",
    "# The logs will show that the quantum instructions evaluated are not those returned by the original callback,\n",
    "# but the ones corresponding to those after compilation.\n",
    "# The logs will not show that the kernel is compiled JIT, but you can observe the effect by the instructions executed.\n",
    "machine = local_machine_for(compiled.instruction_set, compiled_callbacks)\n",
    "\n",
    "machine.single_shot(compiled)"
   ]
  },
  {
   "cell_type": "code",
   "execution_count": null,
   "metadata": {},
   "outputs": [],
   "source": []
  }
 ],
 "metadata": {
  "kernelspec": {
   "display_name": "qstack",
   "language": "python",
   "name": "python3"
  },
  "language_info": {
   "codemirror_mode": {
    "name": "ipython",
    "version": 3
   },
   "file_extension": ".py",
   "mimetype": "text/x-python",
   "name": "python",
   "nbconvert_exporter": "python",
   "pygments_lexer": "ipython3",
   "version": "3.12.3"
  }
 },
 "nbformat": 4,
 "nbformat_minor": 2
}
