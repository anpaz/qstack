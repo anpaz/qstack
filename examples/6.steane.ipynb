{
 "cells": [
  {
   "cell_type": "code",
   "execution_count": 1,
   "metadata": {},
   "outputs": [],
   "source": [
    "# Set up logging to monitor the execution of the program.\n",
    "import logging\n",
    "\n",
    "logger = logging.getLogger(\"qstack\")\n",
    "\n",
    "handler = logging.StreamHandler()\n",
    "formatter = logging.Formatter(\"%(asctime)s - %(levelname)s - %(message)s\")\n",
    "handler.setFormatter(formatter)\n",
    "logger.addHandler(handler)"
   ]
  },
  {
   "cell_type": "code",
   "execution_count": 2,
   "metadata": {},
   "outputs": [],
   "source": [
    "# This example demonstrates the compilation of quantum programs using qstack.\n",
    "# Compilation is the process of transforming a high-level quantum program into a lower-level representation suitable for execution.\n",
    "# The Toy layer is a simplified abstraction layer for quantum operations, useful for prototyping and testing.\n",
    "# It uses gates with names that reflect the intention (e.g., Flip) instead of the mathematical operation (e.g., X).\n",
    "# It provides basic quantum gates and operations to define quantum programs.\n",
    "import qstack\n",
    "\n",
    "program = None\n"
   ]
  },
  {
   "cell_type": "code",
   "execution_count": 3,
   "metadata": {},
   "outputs": [
    {
     "data": {
      "text/plain": [
       "[Kernel(targets=(QubitId(value='q1'),), instructions=(), callback=None)]"
      ]
     },
     "execution_count": 3,
     "metadata": {},
     "output_type": "execute_result"
    }
   ],
   "source": [
    "%%qstack\n",
    "@instruction-set: cliffords-min\n",
    "\n",
    "allocate q1:\n",
    "measure"
   ]
  },
  {
   "cell_type": "code",
   "execution_count": 4,
   "metadata": {},
   "outputs": [
    {
     "name": "stderr",
     "output_type": "stream",
     "text": [
      "2025-05-17 12:09:30,765 - WARNING - Instruction cz has no handler.\n",
      "2025-05-17 12:09:30,767 - WARNING - Instruction y has no handler.\n"
     ]
    },
    {
     "name": "stdout",
     "output_type": "stream",
     "text": [
      "@instruction-set: cliffords-min\n",
      "\n",
      "allocate q1.0 q1.1 q1.2 q1.3 q1.4 q1.5 q1.6:\n",
      "  ---\n",
      "  ---\n",
      "  h q1.4\n",
      "  h q1.5\n",
      "  h q1.6\n",
      "  cx q1.4 q1.0\n",
      "  cx q1.4 q1.1\n",
      "  cx q1.4 q1.3\n",
      "  cx q1.5 q1.0\n",
      "  cx q1.5 q1.2\n",
      "  cx q1.5 q1.3\n",
      "  cx q1.6 q1.1\n",
      "  cx q1.6 q1.2\n",
      "  cx q1.6 q1.3\n",
      "measure\n",
      "?? decode\n"
     ]
    }
   ],
   "source": [
    "# Compile the program using the Steane error-correcting compiler.\n",
    "from qstack.compilers.steane import SteaneCompiler\n",
    "\n",
    "compiler = SteaneCompiler()\n",
    "compiled, callbacks = compiler.compile(program)\n",
    "\n",
    "# Print the compiled program to see the error-corrected version.\n",
    "print(compiled)\n"
   ]
  },
  {
   "cell_type": "code",
   "execution_count": 5,
   "metadata": {},
   "outputs": [
    {
     "data": {
      "application/javascript": "// Copyright (c) Microsoft Corporation.\n// Licensed under the MIT License.\n\n// This file provides CodeMirror syntax highlighting for Q# magic cells\n// in classic Jupyter Notebooks. It does nothing in other (Jupyter Notebook 7,\n// VS Code, Azure Notebooks, etc.) environments.\n\n// Detect the prerequisites and do nothing if they don't exist.\nif (window.require && window.CodeMirror && window.Jupyter) {\n  // The simple mode plugin for CodeMirror is not loaded by default, so require it.\n  window.require([\"codemirror/addon/mode/simple\"], function defineMode() {\n    let rules = [\n      {\n        token: \"comment\",\n        regex: /(\\/\\/).*/,\n        beginWord: false,\n      },\n      {\n        token: \"string\",\n        regex: String.raw`^\\\"(?:[^\\\"\\\\]|\\\\[\\s\\S])*(?:\\\"|$)`,\n        beginWord: false,\n      },\n      {\n        token: \"keyword\",\n        regex: String.raw`(namespace|open|as|operation|function|body|adjoint|newtype|controlled|internal)\\b`,\n        beginWord: true,\n      },\n      {\n        token: \"keyword\",\n        regex: String.raw`(if|elif|else|repeat|until|fixup|for|in|return|fail|within|apply)\\b`,\n        beginWord: true,\n      },\n      {\n        token: \"keyword\",\n        regex: String.raw`(Adjoint|Controlled|Adj|Ctl|is|self|auto|distribute|invert|intrinsic)\\b`,\n        beginWord: true,\n      },\n      {\n        token: \"keyword\",\n        regex: String.raw`(let|set|use|borrow|mutable)\\b`,\n        beginWord: true,\n      },\n      {\n        token: \"operatorKeyword\",\n        regex: String.raw`(not|and|or)\\b|(w/)`,\n        beginWord: true,\n      },\n      {\n        token: \"operatorKeyword\",\n        regex: String.raw`(=)|(!)|(<)|(>)|(\\+)|(-)|(\\*)|(/)|(\\^)|(%)|(\\|)|(&&&)|(~~~)|(\\.\\.\\.)|(\\.\\.)|(\\?)`,\n        beginWord: false,\n      },\n      {\n        token: \"meta\",\n        regex: String.raw`(Int|BigInt|Double|Bool|Qubit|Pauli|Result|Range|String|Unit)\\b`,\n        beginWord: true,\n      },\n      {\n        token: \"atom\",\n        regex: String.raw`(true|false|Pauli(I|X|Y|Z)|One|Zero)\\b`,\n        beginWord: true,\n      },\n    ];\n    let simpleRules = [];\n    for (let rule of rules) {\n      simpleRules.push({\n        token: rule.token,\n        regex: new RegExp(rule.regex, \"g\"),\n        sol: rule.beginWord,\n      });\n      if (rule.beginWord) {\n        // Need an additional rule due to the fact that CodeMirror simple mode doesn't work with ^ token\n        simpleRules.push({\n          token: rule.token,\n          regex: new RegExp(String.raw`\\W` + rule.regex, \"g\"),\n          sol: false,\n        });\n      }\n    }\n\n    // Register the mode defined above with CodeMirror\n    window.CodeMirror.defineSimpleMode(\"qsharp\", { start: simpleRules });\n    window.CodeMirror.defineMIME(\"text/x-qsharp\", \"qsharp\");\n\n    // Tell Jupyter to associate %%qsharp magic cells with the qsharp mode\n    window.Jupyter.CodeCell.options_default.highlight_modes[\"qsharp\"] = {\n      reg: [/^%%qsharp/],\n    };\n\n    // Force re-highlighting of all cells the first time this code runs\n    for (const cell of window.Jupyter.notebook.get_cells()) {\n      cell.auto_highlight();\n    }\n  });\n}\n",
      "text/plain": []
     },
     "metadata": {},
     "output_type": "display_data"
    }
   ],
   "source": [
    "# Set up a local quantum machine to execute the compiled program.\n",
    "# Each machine in qstack is created to target a specific stack or instruction set.\n",
    "# This ensures that the machine can correctly interpret and execute the program's instructions.\n",
    "# Set up a local quantum machine to execute the program.\n",
    "# Each machine in qstack is created to target a specific stack or instruction set.\n",
    "# This ensures that the machine can correctly interpret and execute the program's instructions.\n",
    "from qstack.machine import local_machine_for\n",
    "\n",
    "machine = local_machine_for(compiled.instruction_set, callbacks)\n",
    "\n",
    "# Perform a single-shot execution of the error-corrected program.\n",
    "# A single-shot execution runs the program once and returns the measurement outcomes.\n",
    "# This is useful for observing the result of a single execution of the quantum program.\n",
    "machine.single_shot(compiled)\n",
    "\n",
    "logger.setLevel(logging.INFO)\n"
   ]
  },
  {
   "cell_type": "code",
   "execution_count": 6,
   "metadata": {},
   "outputs": [
    {
     "data": {
      "text/plain": [
       "[Kernel(targets=(QubitId(value='q1'), QubitId(value='q2')), instructions=(QuantumInstruction(name='h', targets=[QubitId(value='q1')], parameters={}), QuantumInstruction(name='cx', targets=[QubitId(value='q1'), QubitId(value='q2')], parameters={})), callback=None)]"
      ]
     },
     "execution_count": 6,
     "metadata": {},
     "output_type": "execute_result"
    }
   ],
   "source": [
    "%%qstack\n",
    "# Define a more complex program to demonstrate error correction in action.\n",
    "@instruction-set: cliffords-min\n",
    "\n",
    "allocate q1 q2:\n",
    "  h q1\n",
    "  cx q1 q2\n",
    "measure\n"
   ]
  },
  {
   "cell_type": "code",
   "execution_count": 7,
   "metadata": {},
   "outputs": [
    {
     "data": {
      "image/png": "[encoded data removed]",
      "text/plain": [
       "<Figure size 640x480 with 1 Axes>"
      ]
     },
     "metadata": {},
     "output_type": "display_data"
    }
   ],
   "source": [
    "# Execute the original program without error correction and plot the results.\n",
    "machine = local_machine_for(program.instruction_set)\n",
    "machine.eval(program).plot_histogram()\n"
   ]
  },
  {
   "cell_type": "code",
   "execution_count": 8,
   "metadata": {},
   "outputs": [
    {
     "name": "stdout",
     "output_type": "stream",
     "text": [
      "@instruction-set: cliffords-min\n",
      "\n",
      "allocate q1.0 q1.1 q1.2 q1.3 q1.4 q1.5 q1.6:\n",
      "  allocate q2.0 q2.1 q2.2 q2.3 q2.4 q2.5 q2.6:\n",
      "    ---\n",
      "    ---\n",
      "    h q1.4\n",
      "    h q1.5\n",
      "    h q1.6\n",
      "    cx q1.4 q1.0\n",
      "    cx q1.4 q1.1\n",
      "    cx q1.4 q1.3\n",
      "    cx q1.5 q1.0\n",
      "    cx q1.5 q1.2\n",
      "    cx q1.5 q1.3\n",
      "    cx q1.6 q1.1\n",
      "    cx q1.6 q1.2\n",
      "    cx q1.6 q1.3\n",
      "    ---\n",
      "    h q2.4\n",
      "    h q2.5\n",
      "    h q2.6\n",
      "    cx q2.4 q2.0\n",
      "    cx q2.4 q2.1\n",
      "    cx q2.4 q2.3\n",
      "    cx q2.5 q2.0\n",
      "    cx q2.5 q2.2\n",
      "    cx q2.5 q2.3\n",
      "    cx q2.6 q2.1\n",
      "    cx q2.6 q2.2\n",
      "    cx q2.6 q2.3\n",
      "    allocate q1.z.0 q1.z.1 q1.z.2:\n",
      "      cx q1.0 q1.z.0\n",
      "      cx q1.1 q1.z.0\n",
      "      cx q1.3 q1.z.0\n",
      "      cx q1.4 q1.z.0\n",
      "      cx q1.0 q1.z.1\n",
      "      cx q1.2 q1.z.1\n",
      "      cx q1.3 q1.z.1\n",
      "      cx q1.5 q1.z.1\n",
      "      cx q1.1 q1.z.2\n",
      "      cx q1.2 q1.z.2\n",
      "      cx q1.3 q1.z.2\n",
      "      cx q1.6 q1.z.2\n",
      "    measure\n",
      "    ?? correct_z(qubit=q1)\n",
      "    allocate q1.x.0 q1.x.1 q1.x.2:\n",
      "      h q1.x.0\n",
      "      h q1.x.1\n",
      "      h q1.x.2\n",
      "      cx q1.x.0 q1.0\n",
      "      cx q1.x.0 q1.1\n",
      "      cx q1.x.0 q1.3\n",
      "      cx q1.x.0 q1.4\n",
      "      cx q1.x.1 q1.0\n",
      "      cx q1.x.1 q1.2\n",
      "      cx q1.x.1 q1.3\n",
      "      cx q1.x.1 q1.5\n",
      "      cx q1.x.2 q1.1\n",
      "      cx q1.x.2 q1.2\n",
      "      cx q1.x.2 q1.3\n",
      "      cx q1.x.2 q1.6\n",
      "      h q1.x.0\n",
      "      h q1.x.1\n",
      "      h q1.x.2\n",
      "    measure\n",
      "    ?? correct_x(qubit=q1)\n",
      "    allocate q2.z.0 q2.z.1 q2.z.2:\n",
      "      cx q2.0 q2.z.0\n",
      "      cx q2.1 q2.z.0\n",
      "      cx q2.3 q2.z.0\n",
      "      cx q2.4 q2.z.0\n",
      "      cx q2.0 q2.z.1\n",
      "      cx q2.2 q2.z.1\n",
      "      cx q2.3 q2.z.1\n",
      "      cx q2.5 q2.z.1\n",
      "      cx q2.1 q2.z.2\n",
      "      cx q2.2 q2.z.2\n",
      "      cx q2.3 q2.z.2\n",
      "      cx q2.6 q2.z.2\n",
      "    measure\n",
      "    ?? correct_z(qubit=q2)\n",
      "    allocate q2.x.0 q2.x.1 q2.x.2:\n",
      "      h q2.x.0\n",
      "      h q2.x.1\n",
      "      h q2.x.2\n",
      "      cx q2.x.0 q2.0\n",
      "      cx q2.x.0 q2.1\n",
      "      cx q2.x.0 q2.3\n",
      "      cx q2.x.0 q2.4\n",
      "      cx q2.x.1 q2.0\n",
      "      cx q2.x.1 q2.2\n",
      "      cx q2.x.1 q2.3\n",
      "      cx q2.x.1 q2.5\n",
      "      cx q2.x.2 q2.1\n",
      "      cx q2.x.2 q2.2\n",
      "      cx q2.x.2 q2.3\n",
      "      cx q2.x.2 q2.6\n",
      "      h q2.x.0\n",
      "      h q2.x.1\n",
      "      h q2.x.2\n",
      "    measure\n",
      "    ?? correct_x(qubit=q2)\n",
      "    ---\n",
      "    h q1.0\n",
      "    h q1.1\n",
      "    h q1.2\n",
      "    h q1.3\n",
      "    h q1.4\n",
      "    h q1.5\n",
      "    h q1.6\n",
      "    allocate q1.z.0 q1.z.1 q1.z.2:\n",
      "      cx q1.0 q1.z.0\n",
      "      cx q1.1 q1.z.0\n",
      "      cx q1.3 q1.z.0\n",
      "      cx q1.4 q1.z.0\n",
      "      cx q1.0 q1.z.1\n",
      "      cx q1.2 q1.z.1\n",
      "      cx q1.3 q1.z.1\n",
      "      cx q1.5 q1.z.1\n",
      "      cx q1.1 q1.z.2\n",
      "      cx q1.2 q1.z.2\n",
      "      cx q1.3 q1.z.2\n",
      "      cx q1.6 q1.z.2\n",
      "    measure\n",
      "    ?? correct_z(qubit=q1)\n",
      "    allocate q1.x.0 q1.x.1 q1.x.2:\n",
      "      h q1.x.0\n",
      "      h q1.x.1\n",
      "      h q1.x.2\n",
      "      cx q1.x.0 q1.0\n",
      "      cx q1.x.0 q1.1\n",
      "      cx q1.x.0 q1.3\n",
      "      cx q1.x.0 q1.4\n",
      "      cx q1.x.1 q1.0\n",
      "      cx q1.x.1 q1.2\n",
      "      cx q1.x.1 q1.3\n",
      "      cx q1.x.1 q1.5\n",
      "      cx q1.x.2 q1.1\n",
      "      cx q1.x.2 q1.2\n",
      "      cx q1.x.2 q1.3\n",
      "      cx q1.x.2 q1.6\n",
      "      h q1.x.0\n",
      "      h q1.x.1\n",
      "      h q1.x.2\n",
      "    measure\n",
      "    ?? correct_x(qubit=q1)\n",
      "    ---\n",
      "    cx q1.0 q2.0\n",
      "    cx q1.1 q2.1\n",
      "    cx q1.2 q2.2\n",
      "    cx q1.3 q2.3\n",
      "    cx q1.4 q2.4\n",
      "    cx q1.5 q2.5\n",
      "    cx q1.6 q2.6\n",
      "  measure\n",
      "  ?? decode\n",
      "measure\n",
      "?? decode\n"
     ]
    }
   ],
   "source": [
    "# Compile the program with the Steane error-correcting compiler.\n",
    "compiled, callbacks = compiler.compile(program)\n",
    "\n",
    "# Print the compiled program.\n",
    "print(compiled)\n"
   ]
  },
  {
   "cell_type": "code",
   "execution_count": 9,
   "metadata": {},
   "outputs": [
    {
     "name": "stderr",
     "output_type": "stream",
     "text": [
      "2025-05-17 00:22:34,470 - DEBUG - Found gate h: [[0.7071, 0.7071], [0.7071, -0.7071]]\n",
      "2025-05-17 00:22:34,473 - DEBUG - Found gate z: [[1, 0], [0, -1]]\n",
      "2025-05-17 00:22:34,475 - DEBUG - Found gate x: [[0, 1], [1, 0]]\n",
      "2025-05-17 00:22:34,478 - DEBUG - Found gate cx: [[1, 0, 0, 0], [0, 1, 0, 0], [0, 0, 0, 1], [0, 0, 1, 0]]\n",
      "2025-05-17 00:22:34,480 - DEBUG - Found gate cz: [[1, 0, 0, 0], [0, 1, 0, 0], [0, 0, 1, 0], [0, 0, 0, -1]]\n",
      "2025-05-17 00:22:34,482 - DEBUG - Found gate y: [[0, (-0-1j)], [1j, 0]]\n",
      "2025-05-17 00:22:34,484 - DEBUG - restart: 17\n",
      "2025-05-17 00:22:34,489 - DEBUG - eval: h [12]\n",
      "2025-05-17 00:22:34,496 - DEBUG - eval: h [11]\n",
      "2025-05-17 00:22:34,501 - DEBUG - eval: h [10]\n",
      "2025-05-17 00:22:34,508 - DEBUG - eval: cx [16, 12]\n",
      "2025-05-17 00:22:34,513 - DEBUG - eval: cx [15, 12]\n"
     ]
    },
    {
     "name": "stderr",
     "output_type": "stream",
     "text": [
      "2025-05-17 00:22:34,518 - DEBUG - eval: cx [13, 12]\n",
      "2025-05-17 00:22:34,523 - DEBUG - eval: cx [16, 11]\n",
      "2025-05-17 00:22:34,532 - DEBUG - eval: cx [14, 11]\n",
      "2025-05-17 00:22:34,539 - DEBUG - eval: cx [13, 11]\n",
      "2025-05-17 00:22:34,546 - DEBUG - eval: cx [15, 10]\n",
      "2025-05-17 00:22:34,553 - DEBUG - eval: cx [14, 10]\n",
      "2025-05-17 00:22:34,562 - DEBUG - eval: cx [13, 10]\n",
      "2025-05-17 00:22:34,568 - DEBUG - eval: h [5]\n",
      "2025-05-17 00:22:34,573 - DEBUG - eval: h [4]\n",
      "2025-05-17 00:22:34,577 - DEBUG - eval: h [3]\n",
      "2025-05-17 00:22:34,581 - DEBUG - eval: cx [9, 5]\n",
      "2025-05-17 00:22:34,587 - DEBUG - eval: cx [8, 5]\n",
      "2025-05-17 00:22:34,592 - DEBUG - eval: cx [6, 5]\n",
      "2025-05-17 00:22:34,599 - DEBUG - eval: cx [9, 4]\n",
      "2025-05-17 00:22:34,605 - DEBUG - eval: cx [7, 4]\n",
      "2025-05-17 00:22:34,611 - DEBUG - eval: cx [6, 4]\n",
      "2025-05-17 00:22:34,617 - DEBUG - eval: cx [8, 3]\n",
      "2025-05-17 00:22:34,622 - DEBUG - eval: cx [7, 3]\n",
      "2025-05-17 00:22:34,627 - DEBUG - eval: cx [6, 3]\n",
      "2025-05-17 00:22:34,636 - DEBUG - eval: cx [2, 16]\n",
      "2025-05-17 00:22:34,644 - DEBUG - eval: cx [2, 15]\n",
      "2025-05-17 00:22:34,653 - DEBUG - eval: cx [2, 13]\n",
      "2025-05-17 00:22:34,659 - DEBUG - eval: cx [2, 12]\n",
      "2025-05-17 00:22:34,665 - DEBUG - eval: cx [1, 16]\n",
      "2025-05-17 00:22:34,673 - DEBUG - eval: cx [1, 14]\n",
      "2025-05-17 00:22:34,681 - DEBUG - eval: cx [1, 13]\n",
      "2025-05-17 00:22:34,686 - DEBUG - eval: cx [1, 11]\n",
      "2025-05-17 00:22:34,692 - DEBUG - eval: cx [0, 15]\n",
      "2025-05-17 00:22:34,698 - DEBUG - eval: cx [0, 14]\n",
      "2025-05-17 00:22:34,702 - DEBUG - eval: cx [0, 13]\n",
      "2025-05-17 00:22:34,707 - DEBUG - eval: cx [0, 10]\n",
      "2025-05-17 00:22:34,718 - DEBUG - outcome: 0\n",
      "2025-05-17 00:22:34,723 - DEBUG - outcome: 0\n",
      "2025-05-17 00:22:34,729 - DEBUG - outcome: 0\n",
      "2025-05-17 00:22:34,731 - DEBUG - eval: h [2]\n",
      "2025-05-17 00:22:34,737 - DEBUG - eval: h [1]\n",
      "2025-05-17 00:22:34,741 - DEBUG - eval: h [0]\n",
      "2025-05-17 00:22:34,745 - DEBUG - eval: cx [16, 2]\n",
      "2025-05-17 00:22:34,750 - DEBUG - eval: cx [15, 2]\n",
      "2025-05-17 00:22:34,755 - DEBUG - eval: cx [13, 2]\n",
      "2025-05-17 00:22:34,760 - DEBUG - eval: cx [12, 2]\n",
      "2025-05-17 00:22:34,764 - DEBUG - eval: cx [16, 1]\n",
      "2025-05-17 00:22:34,770 - DEBUG - eval: cx [14, 1]\n",
      "2025-05-17 00:22:34,779 - DEBUG - eval: cx [13, 1]\n",
      "2025-05-17 00:22:34,784 - DEBUG - eval: cx [11, 1]\n",
      "2025-05-17 00:22:34,791 - DEBUG - eval: cx [15, 0]\n",
      "2025-05-17 00:22:34,797 - DEBUG - eval: cx [14, 0]\n",
      "2025-05-17 00:22:34,803 - DEBUG - eval: cx [13, 0]\n",
      "2025-05-17 00:22:34,808 - DEBUG - eval: cx [10, 0]\n",
      "2025-05-17 00:22:34,813 - DEBUG - eval: h [2]\n",
      "2025-05-17 00:22:34,820 - DEBUG - eval: h [1]\n",
      "2025-05-17 00:22:34,827 - DEBUG - eval: h [0]\n",
      "2025-05-17 00:22:34,837 - DEBUG - outcome: 0\n",
      "2025-05-17 00:22:34,842 - DEBUG - outcome: 0\n",
      "2025-05-17 00:22:34,848 - DEBUG - outcome: 0\n",
      "2025-05-17 00:22:34,849 - DEBUG - eval: cx [2, 9]\n",
      "2025-05-17 00:22:34,855 - DEBUG - eval: cx [2, 8]\n",
      "2025-05-17 00:22:34,860 - DEBUG - eval: cx [2, 6]\n",
      "2025-05-17 00:22:34,865 - DEBUG - eval: cx [2, 5]\n",
      "2025-05-17 00:22:34,873 - DEBUG - eval: cx [1, 9]\n",
      "2025-05-17 00:22:34,878 - DEBUG - eval: cx [1, 7]\n",
      "2025-05-17 00:22:34,883 - DEBUG - eval: cx [1, 6]\n",
      "2025-05-17 00:22:34,890 - DEBUG - eval: cx [1, 4]\n",
      "2025-05-17 00:22:34,895 - DEBUG - eval: cx [0, 8]\n",
      "2025-05-17 00:22:34,901 - DEBUG - eval: cx [0, 7]\n",
      "2025-05-17 00:22:34,906 - DEBUG - eval: cx [0, 6]\n",
      "2025-05-17 00:22:34,911 - DEBUG - eval: cx [0, 3]\n",
      "2025-05-17 00:22:34,921 - DEBUG - outcome: 0\n",
      "2025-05-17 00:22:34,927 - DEBUG - outcome: 0\n",
      "2025-05-17 00:22:34,933 - DEBUG - outcome: 0\n",
      "2025-05-17 00:22:34,935 - DEBUG - eval: h [2]\n",
      "2025-05-17 00:22:34,940 - DEBUG - eval: h [1]\n",
      "2025-05-17 00:22:34,944 - DEBUG - eval: h [0]\n",
      "2025-05-17 00:22:34,950 - DEBUG - eval: cx [9, 2]\n",
      "2025-05-17 00:22:34,956 - DEBUG - eval: cx [8, 2]\n",
      "2025-05-17 00:22:34,963 - DEBUG - eval: cx [6, 2]\n",
      "2025-05-17 00:22:34,968 - DEBUG - eval: cx [5, 2]\n",
      "2025-05-17 00:22:34,974 - DEBUG - eval: cx [9, 1]\n",
      "2025-05-17 00:22:34,980 - DEBUG - eval: cx [7, 1]\n",
      "2025-05-17 00:22:34,986 - DEBUG - eval: cx [6, 1]\n",
      "2025-05-17 00:22:34,995 - DEBUG - eval: cx [4, 1]\n",
      "2025-05-17 00:22:34,999 - DEBUG - eval: cx [8, 0]\n",
      "2025-05-17 00:22:35,007 - DEBUG - eval: cx [7, 0]\n",
      "2025-05-17 00:22:35,012 - DEBUG - eval: cx [6, 0]\n",
      "2025-05-17 00:22:35,016 - DEBUG - eval: cx [3, 0]\n",
      "2025-05-17 00:22:35,020 - DEBUG - eval: h [2]\n",
      "2025-05-17 00:22:35,026 - DEBUG - eval: h [1]\n",
      "2025-05-17 00:22:35,031 - DEBUG - eval: h [0]\n",
      "2025-05-17 00:22:35,040 - DEBUG - outcome: 0\n",
      "2025-05-17 00:22:35,047 - DEBUG - outcome: 0\n",
      "2025-05-17 00:22:35,053 - DEBUG - outcome: 0\n",
      "2025-05-17 00:22:35,055 - DEBUG - eval: h [16]\n",
      "2025-05-17 00:22:35,059 - DEBUG - eval: h [15]\n",
      "2025-05-17 00:22:35,064 - DEBUG - eval: h [14]\n",
      "2025-05-17 00:22:35,068 - DEBUG - eval: h [13]\n",
      "2025-05-17 00:22:35,073 - DEBUG - eval: h [12]\n",
      "2025-05-17 00:22:35,077 - DEBUG - eval: h [11]\n",
      "2025-05-17 00:22:35,081 - DEBUG - eval: h [10]\n",
      "2025-05-17 00:22:35,085 - DEBUG - eval: cx [2, 16]\n",
      "2025-05-17 00:22:35,091 - DEBUG - eval: cx [2, 15]\n",
      "2025-05-17 00:22:35,096 - DEBUG - eval: cx [2, 13]\n",
      "2025-05-17 00:22:35,100 - DEBUG - eval: cx [2, 12]\n",
      "2025-05-17 00:22:35,105 - DEBUG - eval: cx [1, 16]\n",
      "2025-05-17 00:22:35,112 - DEBUG - eval: cx [1, 14]\n",
      "2025-05-17 00:22:35,118 - DEBUG - eval: cx [1, 13]\n",
      "2025-05-17 00:22:35,124 - DEBUG - eval: cx [1, 11]\n",
      "2025-05-17 00:22:35,128 - DEBUG - eval: cx [0, 15]\n",
      "2025-05-17 00:22:35,135 - DEBUG - eval: cx [0, 14]\n",
      "2025-05-17 00:22:35,142 - DEBUG - eval: cx [0, 13]\n",
      "2025-05-17 00:22:35,148 - DEBUG - eval: cx [0, 10]\n",
      "2025-05-17 00:22:35,158 - DEBUG - outcome: 0\n",
      "2025-05-17 00:22:35,163 - DEBUG - outcome: 0\n",
      "2025-05-17 00:22:35,171 - DEBUG - outcome: 0\n",
      "2025-05-17 00:22:35,172 - DEBUG - eval: h [2]\n",
      "2025-05-17 00:22:35,178 - DEBUG - eval: h [1]\n",
      "2025-05-17 00:22:35,182 - DEBUG - eval: h [0]\n",
      "2025-05-17 00:22:35,185 - DEBUG - eval: cx [16, 2]\n",
      "2025-05-17 00:22:35,192 - DEBUG - eval: cx [15, 2]\n",
      "2025-05-17 00:22:35,196 - DEBUG - eval: cx [13, 2]\n",
      "2025-05-17 00:22:35,202 - DEBUG - eval: cx [12, 2]\n",
      "2025-05-17 00:22:35,209 - DEBUG - eval: cx [16, 1]\n",
      "2025-05-17 00:22:35,214 - DEBUG - eval: cx [14, 1]\n",
      "2025-05-17 00:22:35,218 - DEBUG - eval: cx [13, 1]\n",
      "2025-05-17 00:22:35,225 - DEBUG - eval: cx [11, 1]\n",
      "2025-05-17 00:22:35,231 - DEBUG - eval: cx [15, 0]\n",
      "2025-05-17 00:22:35,236 - DEBUG - eval: cx [14, 0]\n",
      "2025-05-17 00:22:35,244 - DEBUG - eval: cx [13, 0]\n",
      "2025-05-17 00:22:35,250 - DEBUG - eval: cx [10, 0]\n",
      "2025-05-17 00:22:35,254 - DEBUG - eval: h [2]\n",
      "2025-05-17 00:22:35,265 - DEBUG - eval: h [1]\n",
      "2025-05-17 00:22:35,271 - DEBUG - eval: h [0]\n",
      "2025-05-17 00:22:35,283 - DEBUG - outcome: 0\n",
      "2025-05-17 00:22:35,289 - DEBUG - outcome: 0\n",
      "2025-05-17 00:22:35,294 - DEBUG - outcome: 0\n",
      "2025-05-17 00:22:35,295 - DEBUG - eval: cx [9, 16]\n",
      "2025-05-17 00:22:35,300 - DEBUG - eval: cx [8, 15]\n",
      "2025-05-17 00:22:35,305 - DEBUG - eval: cx [7, 14]\n",
      "2025-05-17 00:22:35,313 - DEBUG - eval: cx [6, 13]\n",
      "2025-05-17 00:22:35,319 - DEBUG - eval: cx [5, 12]\n",
      "2025-05-17 00:22:35,324 - DEBUG - eval: cx [4, 11]\n",
      "2025-05-17 00:22:35,331 - DEBUG - eval: cx [3, 10]\n",
      "2025-05-17 00:22:35,339 - DEBUG - outcome: 0\n",
      "2025-05-17 00:22:35,349 - DEBUG - outcome: 1\n",
      "2025-05-17 00:22:35,357 - DEBUG - outcome: 1\n",
      "2025-05-17 00:22:35,364 - DEBUG - outcome: 0\n",
      "2025-05-17 00:22:35,370 - DEBUG - outcome: 0\n",
      "2025-05-17 00:22:35,375 - DEBUG - outcome: 0\n",
      "2025-05-17 00:22:35,384 - DEBUG - outcome: 1\n",
      "2025-05-17 00:22:35,386 - DEBUG - outcome: [1 0 0 0 1 1 0], syndrome: (0, 0, 0), correction: None\n",
      "2025-05-17 00:22:35,394 - DEBUG - outcome: 1\n",
      "2025-05-17 00:22:35,401 - DEBUG - outcome: 0\n",
      "2025-05-17 00:22:35,406 - DEBUG - outcome: 0\n",
      "2025-05-17 00:22:35,414 - DEBUG - outcome: 1\n",
      "2025-05-17 00:22:35,420 - DEBUG - outcome: 0\n",
      "2025-05-17 00:22:35,425 - DEBUG - outcome: 0\n",
      "2025-05-17 00:22:35,434 - DEBUG - outcome: 1\n",
      "2025-05-17 00:22:35,435 - DEBUG - outcome: [1 0 0 1 0 0 1], syndrome: (0, 0, 0), correction: None\n"
     ]
    },
    {
     "data": {
      "image/png": "[encoded data removed]",
      "text/plain": [
       "<Figure size 640x480 with 1 Axes>"
      ]
     },
     "metadata": {},
     "output_type": "display_data"
    }
   ],
   "source": [
    "# Execute the error-corrected program and plot the results.\n",
    "logger.setLevel(logging.DEBUG)\n",
    "\n",
    "machine = local_machine_for(compiled.instruction_set, callbacks)\n",
    "machine.single_shot(compiled)\n",
    "\n",
    "logger.setLevel(logging.INFO)\n",
    "machine.eval(compiled, shots=100).plot_histogram()\n"
   ]
  },
  {
   "cell_type": "code",
   "execution_count": 9,
   "metadata": {},
   "outputs": [
    {
     "data": {
      "text/plain": [
       "[Kernel(targets=(QubitId(value='0'), QubitId(value='1'), QubitId(value='2'), QubitId(value='3'), QubitId(value='4'), QubitId(value='5'), QubitId(value='6')), instructions=(QuantumInstruction(name='h', targets=[QubitId(value='4')], parameters={}), QuantumInstruction(name='h', targets=[QubitId(value='5')], parameters={}), QuantumInstruction(name='h', targets=[QubitId(value='6')], parameters={}), QuantumInstruction(name='cx', targets=[QubitId(value='4'), QubitId(value='0')], parameters={}), QuantumInstruction(name='cx', targets=[QubitId(value='4'), QubitId(value='1')], parameters={}), QuantumInstruction(name='cx', targets=[QubitId(value='4'), QubitId(value='3')], parameters={}), QuantumInstruction(name='cx', targets=[QubitId(value='5'), QubitId(value='0')], parameters={}), QuantumInstruction(name='cx', targets=[QubitId(value='5'), QubitId(value='2')], parameters={}), QuantumInstruction(name='cx', targets=[QubitId(value='5'), QubitId(value='3')], parameters={}), QuantumInstruction(name='cx', targets=[QubitId(value='6'), QubitId(value='1')], parameters={}), QuantumInstruction(name='cx', targets=[QubitId(value='6'), QubitId(value='2')], parameters={}), QuantumInstruction(name='cx', targets=[QubitId(value='6'), QubitId(value='3')], parameters={})), callback=None)]"
      ]
     },
     "execution_count": 9,
     "metadata": {},
     "output_type": "execute_result"
    }
   ],
   "source": [
    "%%qstack\n",
    "# Demonstrate the state preparation routine for the Steane code.\n",
    "@instruction-set: cliffords-min\n",
    "\n",
    "allocate 0 1 2 3 4 5 6:\n",
    "  h 4\n",
    "  h 5\n",
    "  h 6\n",
    "  cx 4 0\n",
    "  cx 4 1\n",
    "  cx 4 3\n",
    "  cx 5 0\n",
    "  cx 5 2\n",
    "  cx 5 3\n",
    "  cx 6 1\n",
    "  cx 6 2\n",
    "  cx 6 3\n",
    "measure"
   ]
  },
  {
   "cell_type": "code",
   "execution_count": 10,
   "metadata": {},
   "outputs": [
    {
     "name": "stdout",
     "output_type": "stream",
     "text": [
      "(0, 0, 0, 0, 0, 0, 0) 134\n",
      "(0, 1, 1, 0, 1, 1, 0) 118\n",
      "(0, 0, 0, 1, 1, 1, 1) 131\n",
      "(1, 0, 1, 0, 1, 0, 1) 106\n",
      "(1, 0, 1, 1, 0, 1, 0) 130\n",
      "(1, 1, 0, 0, 0, 1, 1) 141\n",
      "(0, 1, 1, 1, 0, 0, 1) 98\n",
      "(1, 1, 0, 1, 1, 0, 0) 142\n"
     ]
    }
   ],
   "source": [
    "# Execute the state preparation routine and print the resulting histogram.\n",
    "machine = local_machine_for(program.instruction_set)\n",
    "for k, v in machine.eval(program).get_histogram().items():\n",
    "    print(k, v)\n"
   ]
  },
  {
   "cell_type": "code",
   "execution_count": null,
   "metadata": {},
   "outputs": [],
   "source": []
  }
 ],
 "metadata": {
  "kernelspec": {
   "display_name": "qstack",
   "language": "python",
   "name": "python3"
  },
  "language_info": {
   "codemirror_mode": {
    "name": "ipython",
    "version": 3
   },
   "file_extension": ".py",
   "mimetype": "text/x-python",
   "name": "python",
   "nbconvert_exporter": "python",
   "pygments_lexer": "ipython3",
   "version": "3.12.3"
  }
 },
 "nbformat": 4,
 "nbformat_minor": 2
}
