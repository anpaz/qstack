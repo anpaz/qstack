{
 "cells": [
  {
   "cell_type": "code",
   "execution_count": 1,
   "metadata": {},
   "outputs": [],
   "source": [
    "# This example demonstrates quantum teleportation using qstack.\n",
    "# Quantum teleportation is a protocol that transfers the state of a qubit to another qubit using entanglement and classical communication.\n",
    "# The clifford_min layer is a minimal abstraction layer for Clifford operations, providing essential gates like H, CX, and Pauli gates.\n",
    "# It is designed for efficient simulation and execution of quantum programs.\n",
    "import random\n",
    "\n",
    "from qstack.layers.cliffords_min import *\n",
    "from qstack.layer import ClassicDefinition, QubitId, Kernel\n",
    "from qstack import Program, Stack, Kernel\n",
    "from qstack.classic_processor import ClassicalContext\n",
    "\n",
    "# Randomly select an operation (X or H) for state preparation.\n",
    "op = random.choice([X, H])\n",
    "\n",
    "\n",
    "# Define a classical callback for state preparation.\n",
    "def prepare(context: ClassicalContext, *, q: QubitId):\n",
    "    return Kernel(targets=[], instructions=[op(q)])\n",
    "\n",
    "\n",
    "# Define a classical callback for fixing the teleported state based on measurement outcomes.\n",
    "def fix(context: ClassicalContext, *, q: QubitId):\n",
    "    m0 = context.consume()  # Consume the first measurement result.\n",
    "    m1 = context.consume()  # Consume the second measurement result.\n",
    "\n",
    "    instructions = []\n",
    "    if m1 == 1:\n",
    "        instructions.append(Z(q))  # Apply a Z gate if the second measurement is 1.\n",
    "    if m0 == 1:\n",
    "        instructions.append(X(q))  # Apply an X gate if the first measurement is 1.\n",
    "\n",
    "    return Kernel(targets=[], instructions=instructions)\n",
    "\n",
    "\n",
    "# Extend the layer with classical definitions for Prepare and Fix operations.\n",
    "Prepare = ClassicDefinition.from_callback(prepare)\n",
    "Fix = ClassicDefinition.from_callback(fix)\n",
    "\n",
    "teleport_layer = layer.extend_with(classic={Prepare, Fix})\n",
    "stack = Stack.create(teleport_layer)\n"
   ]
  },
  {
   "cell_type": "code",
   "execution_count": 2,
   "metadata": {},
   "outputs": [
    {
     "name": "stdout",
     "output_type": "stream",
     "text": [
      "@stack: cliffords-min.extended\n",
      "\n",
      "allocate target:\n",
      "  allocate shared source:\n",
      "    ---\n",
      "    ?? prepare(q=source)\n",
      "    h shared\n",
      "    cx shared target\n",
      "    cx source shared\n",
      "    h source\n",
      "  measure\n",
      "  ?? fix(q=target)\n",
      "measure\n"
     ]
    }
   ],
   "source": [
    "# Define the qubits involved in the teleportation protocol.\n",
    "source = QubitId(\"source\")  # The qubit whose state will be teleported.\n",
    "shared = QubitId(\"shared\")  # The entangled qubit shared between sender and receiver.\n",
    "target = QubitId(\"target\")  # The qubit that will receive the teleported state.\n",
    "\n",
    "# Define the quantum program for teleportation.\n",
    "program = Program(\n",
    "    stack=stack,\n",
    "    kernels=[\n",
    "        Kernel.allocate(\n",
    "            target,\n",
    "            compute=[\n",
    "                Kernel.allocate(\n",
    "                    shared,\n",
    "                    source,\n",
    "                    compute=[\n",
    "                        Kernel.continue_with(Prepare(q=source)),  # Prepare the source qubit.\n",
    "                        H(shared),  # Create entanglement between shared and target qubits.\n",
    "                        CX(shared, target),  # Entangle shared and target qubits.\n",
    "                        CX(source, shared),  # Perform a Bell-state measurement.\n",
    "                        H(source),  # Apply a Hadamard gate to the source qubit.\n",
    "                    ],\n",
    "                    continue_with=Fix(q=target),  # Fix the target qubit's state based on measurements.\n",
    "                ),\n",
    "            ],\n",
    "        )\n",
    "    ],\n",
    ")\n",
    "\n",
    "# Print the program to visualize its structure.\n",
    "print(program)\n"
   ]
  },
  {
   "cell_type": "code",
   "execution_count": 3,
   "metadata": {},
   "outputs": [
    {
     "data": {
      "application/javascript": "// Copyright (c) Microsoft Corporation.\n// Licensed under the MIT License.\n\n// This file provides CodeMirror syntax highlighting for Q# magic cells\n// in classic Jupyter Notebooks. It does nothing in other (Jupyter Notebook 7,\n// VS Code, Azure Notebooks, etc.) environments.\n\n// Detect the prerequisites and do nothing if they don't exist.\nif (window.require && window.CodeMirror && window.Jupyter) {\n  // The simple mode plugin for CodeMirror is not loaded by default, so require it.\n  window.require([\"codemirror/addon/mode/simple\"], function defineMode() {\n    let rules = [\n      {\n        token: \"comment\",\n        regex: /(\\/\\/).*/,\n        beginWord: false,\n      },\n      {\n        token: \"string\",\n        regex: String.raw`^\\\"(?:[^\\\"\\\\]|\\\\[\\s\\S])*(?:\\\"|$)`,\n        beginWord: false,\n      },\n      {\n        token: \"keyword\",\n        regex: String.raw`(namespace|open|as|operation|function|body|adjoint|newtype|controlled|internal)\\b`,\n        beginWord: true,\n      },\n      {\n        token: \"keyword\",\n        regex: String.raw`(if|elif|else|repeat|until|fixup|for|in|return|fail|within|apply)\\b`,\n        beginWord: true,\n      },\n      {\n        token: \"keyword\",\n        regex: String.raw`(Adjoint|Controlled|Adj|Ctl|is|self|auto|distribute|invert|intrinsic)\\b`,\n        beginWord: true,\n      },\n      {\n        token: \"keyword\",\n        regex: String.raw`(let|set|use|borrow|mutable)\\b`,\n        beginWord: true,\n      },\n      {\n        token: \"operatorKeyword\",\n        regex: String.raw`(not|and|or)\\b|(w/)`,\n        beginWord: true,\n      },\n      {\n        token: \"operatorKeyword\",\n        regex: String.raw`(=)|(!)|(<)|(>)|(\\+)|(-)|(\\*)|(/)|(\\^)|(%)|(\\|)|(&&&)|(~~~)|(\\.\\.\\.)|(\\.\\.)|(\\?)`,\n        beginWord: false,\n      },\n      {\n        token: \"meta\",\n        regex: String.raw`(Int|BigInt|Double|Bool|Qubit|Pauli|Result|Range|String|Unit)\\b`,\n        beginWord: true,\n      },\n      {\n        token: \"atom\",\n        regex: String.raw`(true|false|Pauli(I|X|Y|Z)|One|Zero)\\b`,\n        beginWord: true,\n      },\n    ];\n    let simpleRules = [];\n    for (let rule of rules) {\n      simpleRules.push({\n        token: rule.token,\n        regex: new RegExp(rule.regex, \"g\"),\n        sol: rule.beginWord,\n      });\n      if (rule.beginWord) {\n        // Need an additional rule due to the fact that CodeMirror simple mode doesn't work with ^ token\n        simpleRules.push({\n          token: rule.token,\n          regex: new RegExp(String.raw`\\W` + rule.regex, \"g\"),\n          sol: false,\n        });\n      }\n    }\n\n    // Register the mode defined above with CodeMirror\n    window.CodeMirror.defineSimpleMode(\"qsharp\", { start: simpleRules });\n    window.CodeMirror.defineMIME(\"text/x-qsharp\", \"qsharp\");\n\n    // Tell Jupyter to associate %%qsharp magic cells with the qsharp mode\n    window.Jupyter.CodeCell.options_default.highlight_modes[\"qsharp\"] = {\n      reg: [/^%%qsharp/],\n    };\n\n    // Force re-highlighting of all cells the first time this code runs\n    for (const cell of window.Jupyter.notebook.get_cells()) {\n      cell.auto_highlight();\n    }\n  });\n}\n",
      "text/plain": []
     },
     "metadata": {},
     "output_type": "display_data"
    }
   ],
   "source": [
    "# Set up a local quantum machine to execute the program.\n",
    "# Each machine in qstack is created to target a specific stack or instruction set.\n",
    "# This ensures that the machine can correctly interpret and execute the program's instructions.\n",
    "from qstack.machine import local_machine_for\n",
    "\n",
    "machine = local_machine_for(program.stack)\n"
   ]
  },
  {
   "cell_type": "code",
   "execution_count": 4,
   "metadata": {},
   "outputs": [
    {
     "name": "stdout",
     "output_type": "stream",
     "text": [
      "x\n"
     ]
    },
    {
     "data": {
      "text/plain": [
       "(1,)"
      ]
     },
     "execution_count": 4,
     "metadata": {},
     "output_type": "execute_result"
    }
   ],
   "source": [
    "# Print the name of the operation used for state preparation.\n",
    "print(op.name)\n",
    "\n",
    "# A single-shot execution runs the program once and returns the measurement outcomes.\n",
    "# This is useful for observing the result of a single execution of the quantum program.\n",
    "# Perform a single-shot execution of the teleportation protocol.\n",
    "machine.single_shot(program)\n"
   ]
  },
  {
   "cell_type": "code",
   "execution_count": 5,
   "metadata": {},
   "outputs": [
    {
     "data": {
      "image/png": "[encoded data removed]",
      "text/plain": [
       "<Figure size 640x480 with 1 Axes>"
      ]
     },
     "metadata": {},
     "output_type": "display_data"
    }
   ],
   "source": [
    "# Evaluate the program multiple times and plot the resulting histogram.\n",
    "machine.eval(program).plot_histogram()\n"
   ]
  },
  {
   "cell_type": "code",
   "execution_count": null,
   "metadata": {},
   "outputs": [],
   "source": []
  }
 ],
 "metadata": {
  "kernelspec": {
   "display_name": "qstack",
   "language": "python",
   "name": "python3"
  },
  "language_info": {
   "codemirror_mode": {
    "name": "ipython",
    "version": 3
   },
   "file_extension": ".py",
   "mimetype": "text/x-python",
   "name": "python",
   "nbconvert_exporter": "python",
   "pygments_lexer": "ipython3",
   "version": "3.12.3"
  }
 },
 "nbformat": 4,
 "nbformat_minor": 2
}
